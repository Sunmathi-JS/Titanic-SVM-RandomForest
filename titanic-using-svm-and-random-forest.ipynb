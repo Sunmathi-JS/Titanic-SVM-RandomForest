{
 "cells": [
  {
   "cell_type": "code",
   "execution_count": 1,
   "id": "c17fcaf2",
   "metadata": {
    "execution": {
     "iopub.execute_input": "2023-04-27T06:58:47.209121Z",
     "iopub.status.busy": "2023-04-27T06:58:47.208655Z",
     "iopub.status.idle": "2023-04-27T06:58:47.225316Z",
     "shell.execute_reply": "2023-04-27T06:58:47.223975Z"
    },
    "id": "lNJDlUArcQcv",
    "outputId": "62dca58b-aa29-4fda-c041-6d4c66303739",
    "papermill": {
     "duration": 0.038552,
     "end_time": "2023-04-27T06:58:47.229554",
     "exception": false,
     "start_time": "2023-04-27T06:58:47.191002",
     "status": "completed"
    },
    "tags": []
   },
   "outputs": [
    {
     "name": "stdout",
     "output_type": "stream",
     "text": [
      "/kaggle/input/titanic/train.csv\n",
      "/kaggle/input/titanic/test.csv\n",
      "/kaggle/input/titanic/gender_submission.csv\n"
     ]
    }
   ],
   "source": [
    "# This Python 3 environment comes with many helpful analytics libraries installed\n",
    "# It is defined by the kaggle/python Docker image: https://github.com/kaggle/docker-python\n",
    "# For example, here's several helpful packages to load\n",
    "\n",
    "import numpy as np # linear algebra\n",
    "import pandas as pd # data processing, CSV file I/O (e.g. pd.read_csv)\n",
    "\n",
    "# Input data files are available in the read-only \"../input/\" directory\n",
    "# For example, running this (by clicking run or pressing Shift+Enter) will list all files under the input directory\n",
    "\n",
    "import os\n",
    "for dirname, _, filenames in os.walk('/kaggle/input'):\n",
    "    for filename in filenames:\n",
    "        print(os.path.join(dirname, filename))\n",
    "\n",
    "# You can write up to 20GB to the current directory (/kaggle/working/) that gets preserved as output when you create a version using \"Save & Run All\" \n",
    "# You can also write temporary files to /kaggle/temp/, but they won't be saved outside of the current session"
   ]
  },
  {
   "cell_type": "markdown",
   "id": "a6582312",
   "metadata": {
    "id": "XZZAQTq5e058",
    "papermill": {
     "duration": 0.014858,
     "end_time": "2023-04-27T06:58:47.259405",
     "exception": false,
     "start_time": "2023-04-27T06:58:47.244547",
     "status": "completed"
    },
    "tags": []
   },
   "source": [
    "## Importing the libraries"
   ]
  },
  {
   "cell_type": "code",
   "execution_count": 2,
   "id": "629e542d",
   "metadata": {
    "execution": {
     "iopub.execute_input": "2023-04-27T06:58:47.291075Z",
     "iopub.status.busy": "2023-04-27T06:58:47.290667Z",
     "iopub.status.idle": "2023-04-27T06:58:48.473087Z",
     "shell.execute_reply": "2023-04-27T06:58:48.471956Z"
    },
    "id": "0gqOvPQfbNg5",
    "papermill": {
     "duration": 1.202016,
     "end_time": "2023-04-27T06:58:48.475944",
     "exception": false,
     "start_time": "2023-04-27T06:58:47.273928",
     "status": "completed"
    },
    "tags": []
   },
   "outputs": [],
   "source": [
    "import numpy as np\n",
    "import pandas as pd\n",
    "import seaborn as sns\n",
    "import matplotlib.pyplot as plt\n",
    "%matplotlib inline"
   ]
  },
  {
   "cell_type": "markdown",
   "id": "87e8f93d",
   "metadata": {
    "id": "HbbPEcI6iWAP",
    "papermill": {
     "duration": 0.014753,
     "end_time": "2023-04-27T06:58:48.506756",
     "exception": false,
     "start_time": "2023-04-27T06:58:48.492003",
     "status": "completed"
    },
    "tags": []
   },
   "source": [
    "## Extracting the info from the dataset "
   ]
  },
  {
   "cell_type": "code",
   "execution_count": 3,
   "id": "a8b3d44f",
   "metadata": {
    "execution": {
     "iopub.execute_input": "2023-04-27T06:58:48.538646Z",
     "iopub.status.busy": "2023-04-27T06:58:48.537543Z",
     "iopub.status.idle": "2023-04-27T06:58:48.565377Z",
     "shell.execute_reply": "2023-04-27T06:58:48.564304Z"
    },
    "id": "qq9MS35ybvHw",
    "papermill": {
     "duration": 0.046615,
     "end_time": "2023-04-27T06:58:48.568071",
     "exception": false,
     "start_time": "2023-04-27T06:58:48.521456",
     "status": "completed"
    },
    "tags": []
   },
   "outputs": [],
   "source": [
    "df= pd.read_csv('/kaggle/input/titanic/train.csv')\n",
    "df_test=pd.read_csv('/kaggle/input/titanic/test.csv')"
   ]
  },
  {
   "cell_type": "code",
   "execution_count": 4,
   "id": "ec7d8171",
   "metadata": {
    "execution": {
     "iopub.execute_input": "2023-04-27T06:58:48.599971Z",
     "iopub.status.busy": "2023-04-27T06:58:48.598961Z",
     "iopub.status.idle": "2023-04-27T06:58:48.606710Z",
     "shell.execute_reply": "2023-04-27T06:58:48.605169Z"
    },
    "id": "cRUDR-Ksd26j",
    "outputId": "6ec1ad2b-6ebb-49f1-ffd8-cc75f13da8c6",
    "papermill": {
     "duration": 0.026364,
     "end_time": "2023-04-27T06:58:48.609199",
     "exception": false,
     "start_time": "2023-04-27T06:58:48.582835",
     "status": "completed"
    },
    "tags": []
   },
   "outputs": [
    {
     "name": "stdout",
     "output_type": "stream",
     "text": [
      "Index(['PassengerId', 'Survived', 'Pclass', 'Name', 'Sex', 'Age', 'SibSp',\n",
      "       'Parch', 'Ticket', 'Fare', 'Cabin', 'Embarked'],\n",
      "      dtype='object')\n",
      "12 features are present in the training dataset\n"
     ]
    }
   ],
   "source": [
    "print(df.columns)\n",
    "print(len(df.columns),'features are present in the training dataset')"
   ]
  },
  {
   "cell_type": "code",
   "execution_count": 5,
   "id": "621602d3",
   "metadata": {
    "execution": {
     "iopub.execute_input": "2023-04-27T06:58:48.641673Z",
     "iopub.status.busy": "2023-04-27T06:58:48.640802Z",
     "iopub.status.idle": "2023-04-27T06:58:48.647665Z",
     "shell.execute_reply": "2023-04-27T06:58:48.646026Z"
    },
    "id": "kc3r79rVd_H2",
    "outputId": "db7a1143-4c3d-4040-8195-c10b74702449",
    "papermill": {
     "duration": 0.026747,
     "end_time": "2023-04-27T06:58:48.650671",
     "exception": false,
     "start_time": "2023-04-27T06:58:48.623924",
     "status": "completed"
    },
    "tags": []
   },
   "outputs": [
    {
     "name": "stdout",
     "output_type": "stream",
     "text": [
      "Index(['PassengerId', 'Pclass', 'Name', 'Sex', 'Age', 'SibSp', 'Parch',\n",
      "       'Ticket', 'Fare', 'Cabin', 'Embarked'],\n",
      "      dtype='object')\n",
      "12 features are present in the testing dataset\n"
     ]
    }
   ],
   "source": [
    "print(df_test.columns)\n",
    "print(len(df.columns),'features are present in the testing dataset')"
   ]
  },
  {
   "cell_type": "code",
   "execution_count": 6,
   "id": "74a96d44",
   "metadata": {
    "execution": {
     "iopub.execute_input": "2023-04-27T06:58:48.682954Z",
     "iopub.status.busy": "2023-04-27T06:58:48.682488Z",
     "iopub.status.idle": "2023-04-27T06:58:48.688878Z",
     "shell.execute_reply": "2023-04-27T06:58:48.687571Z"
    },
    "id": "Uwr4eHhqfWSw",
    "outputId": "3f1e63b3-a750-404e-9b1c-e51e863835fc",
    "papermill": {
     "duration": 0.025966,
     "end_time": "2023-04-27T06:58:48.691883",
     "exception": false,
     "start_time": "2023-04-27T06:58:48.665917",
     "status": "completed"
    },
    "tags": []
   },
   "outputs": [
    {
     "name": "stdout",
     "output_type": "stream",
     "text": [
      "891 records are persent in training dataset\n",
      "418 records are persent in testing dataset\n"
     ]
    }
   ],
   "source": [
    "print(len(df),\"records are persent in training dataset\")\n",
    "print(len(df_test),\"records are persent in testing dataset\")\n"
   ]
  },
  {
   "cell_type": "code",
   "execution_count": 7,
   "id": "710c1b15",
   "metadata": {
    "execution": {
     "iopub.execute_input": "2023-04-27T06:58:48.724144Z",
     "iopub.status.busy": "2023-04-27T06:58:48.723646Z",
     "iopub.status.idle": "2023-04-27T06:58:48.757747Z",
     "shell.execute_reply": "2023-04-27T06:58:48.756733Z"
    },
    "id": "t7anz1wYfp8L",
    "outputId": "cfeb08c3-49e9-43da-ac4b-4e06c8e9ed91",
    "papermill": {
     "duration": 0.05361,
     "end_time": "2023-04-27T06:58:48.760300",
     "exception": false,
     "start_time": "2023-04-27T06:58:48.706690",
     "status": "completed"
    },
    "tags": []
   },
   "outputs": [
    {
     "data": {
      "text/html": [
       "<div>\n",
       "<style scoped>\n",
       "    .dataframe tbody tr th:only-of-type {\n",
       "        vertical-align: middle;\n",
       "    }\n",
       "\n",
       "    .dataframe tbody tr th {\n",
       "        vertical-align: top;\n",
       "    }\n",
       "\n",
       "    .dataframe thead th {\n",
       "        text-align: right;\n",
       "    }\n",
       "</style>\n",
       "<table border=\"1\" class=\"dataframe\">\n",
       "  <thead>\n",
       "    <tr style=\"text-align: right;\">\n",
       "      <th></th>\n",
       "      <th>PassengerId</th>\n",
       "      <th>Survived</th>\n",
       "      <th>Pclass</th>\n",
       "      <th>Name</th>\n",
       "      <th>Sex</th>\n",
       "      <th>Age</th>\n",
       "      <th>SibSp</th>\n",
       "      <th>Parch</th>\n",
       "      <th>Ticket</th>\n",
       "      <th>Fare</th>\n",
       "      <th>Cabin</th>\n",
       "      <th>Embarked</th>\n",
       "    </tr>\n",
       "  </thead>\n",
       "  <tbody>\n",
       "    <tr>\n",
       "      <th>0</th>\n",
       "      <td>1</td>\n",
       "      <td>0</td>\n",
       "      <td>3</td>\n",
       "      <td>Braund, Mr. Owen Harris</td>\n",
       "      <td>male</td>\n",
       "      <td>22.0</td>\n",
       "      <td>1</td>\n",
       "      <td>0</td>\n",
       "      <td>A/5 21171</td>\n",
       "      <td>7.2500</td>\n",
       "      <td>NaN</td>\n",
       "      <td>S</td>\n",
       "    </tr>\n",
       "    <tr>\n",
       "      <th>1</th>\n",
       "      <td>2</td>\n",
       "      <td>1</td>\n",
       "      <td>1</td>\n",
       "      <td>Cumings, Mrs. John Bradley (Florence Briggs Th...</td>\n",
       "      <td>female</td>\n",
       "      <td>38.0</td>\n",
       "      <td>1</td>\n",
       "      <td>0</td>\n",
       "      <td>PC 17599</td>\n",
       "      <td>71.2833</td>\n",
       "      <td>C85</td>\n",
       "      <td>C</td>\n",
       "    </tr>\n",
       "    <tr>\n",
       "      <th>2</th>\n",
       "      <td>3</td>\n",
       "      <td>1</td>\n",
       "      <td>3</td>\n",
       "      <td>Heikkinen, Miss. Laina</td>\n",
       "      <td>female</td>\n",
       "      <td>26.0</td>\n",
       "      <td>0</td>\n",
       "      <td>0</td>\n",
       "      <td>STON/O2. 3101282</td>\n",
       "      <td>7.9250</td>\n",
       "      <td>NaN</td>\n",
       "      <td>S</td>\n",
       "    </tr>\n",
       "    <tr>\n",
       "      <th>3</th>\n",
       "      <td>4</td>\n",
       "      <td>1</td>\n",
       "      <td>1</td>\n",
       "      <td>Futrelle, Mrs. Jacques Heath (Lily May Peel)</td>\n",
       "      <td>female</td>\n",
       "      <td>35.0</td>\n",
       "      <td>1</td>\n",
       "      <td>0</td>\n",
       "      <td>113803</td>\n",
       "      <td>53.1000</td>\n",
       "      <td>C123</td>\n",
       "      <td>S</td>\n",
       "    </tr>\n",
       "    <tr>\n",
       "      <th>4</th>\n",
       "      <td>5</td>\n",
       "      <td>0</td>\n",
       "      <td>3</td>\n",
       "      <td>Allen, Mr. William Henry</td>\n",
       "      <td>male</td>\n",
       "      <td>35.0</td>\n",
       "      <td>0</td>\n",
       "      <td>0</td>\n",
       "      <td>373450</td>\n",
       "      <td>8.0500</td>\n",
       "      <td>NaN</td>\n",
       "      <td>S</td>\n",
       "    </tr>\n",
       "  </tbody>\n",
       "</table>\n",
       "</div>"
      ],
      "text/plain": [
       "   PassengerId  Survived  Pclass  \\\n",
       "0            1         0       3   \n",
       "1            2         1       1   \n",
       "2            3         1       3   \n",
       "3            4         1       1   \n",
       "4            5         0       3   \n",
       "\n",
       "                                                Name     Sex   Age  SibSp  \\\n",
       "0                            Braund, Mr. Owen Harris    male  22.0      1   \n",
       "1  Cumings, Mrs. John Bradley (Florence Briggs Th...  female  38.0      1   \n",
       "2                             Heikkinen, Miss. Laina  female  26.0      0   \n",
       "3       Futrelle, Mrs. Jacques Heath (Lily May Peel)  female  35.0      1   \n",
       "4                           Allen, Mr. William Henry    male  35.0      0   \n",
       "\n",
       "   Parch            Ticket     Fare Cabin Embarked  \n",
       "0      0         A/5 21171   7.2500   NaN        S  \n",
       "1      0          PC 17599  71.2833   C85        C  \n",
       "2      0  STON/O2. 3101282   7.9250   NaN        S  \n",
       "3      0            113803  53.1000  C123        S  \n",
       "4      0            373450   8.0500   NaN        S  "
      ]
     },
     "execution_count": 7,
     "metadata": {},
     "output_type": "execute_result"
    }
   ],
   "source": [
    "df.head()"
   ]
  },
  {
   "cell_type": "code",
   "execution_count": 8,
   "id": "6c40d0a4",
   "metadata": {
    "execution": {
     "iopub.execute_input": "2023-04-27T06:58:48.792880Z",
     "iopub.status.busy": "2023-04-27T06:58:48.792199Z",
     "iopub.status.idle": "2023-04-27T06:58:48.808757Z",
     "shell.execute_reply": "2023-04-27T06:58:48.807410Z"
    },
    "id": "K7mtaEJ2ivge",
    "outputId": "1314f410-d4e3-4602-9bfa-e6f10317bb14",
    "papermill": {
     "duration": 0.035776,
     "end_time": "2023-04-27T06:58:48.811297",
     "exception": false,
     "start_time": "2023-04-27T06:58:48.775521",
     "status": "completed"
    },
    "tags": []
   },
   "outputs": [
    {
     "data": {
      "text/html": [
       "<div>\n",
       "<style scoped>\n",
       "    .dataframe tbody tr th:only-of-type {\n",
       "        vertical-align: middle;\n",
       "    }\n",
       "\n",
       "    .dataframe tbody tr th {\n",
       "        vertical-align: top;\n",
       "    }\n",
       "\n",
       "    .dataframe thead th {\n",
       "        text-align: right;\n",
       "    }\n",
       "</style>\n",
       "<table border=\"1\" class=\"dataframe\">\n",
       "  <thead>\n",
       "    <tr style=\"text-align: right;\">\n",
       "      <th></th>\n",
       "      <th>PassengerId</th>\n",
       "      <th>Pclass</th>\n",
       "      <th>Name</th>\n",
       "      <th>Sex</th>\n",
       "      <th>Age</th>\n",
       "      <th>SibSp</th>\n",
       "      <th>Parch</th>\n",
       "      <th>Ticket</th>\n",
       "      <th>Fare</th>\n",
       "      <th>Cabin</th>\n",
       "      <th>Embarked</th>\n",
       "    </tr>\n",
       "  </thead>\n",
       "  <tbody>\n",
       "    <tr>\n",
       "      <th>0</th>\n",
       "      <td>892</td>\n",
       "      <td>3</td>\n",
       "      <td>Kelly, Mr. James</td>\n",
       "      <td>male</td>\n",
       "      <td>34.5</td>\n",
       "      <td>0</td>\n",
       "      <td>0</td>\n",
       "      <td>330911</td>\n",
       "      <td>7.8292</td>\n",
       "      <td>NaN</td>\n",
       "      <td>Q</td>\n",
       "    </tr>\n",
       "    <tr>\n",
       "      <th>1</th>\n",
       "      <td>893</td>\n",
       "      <td>3</td>\n",
       "      <td>Wilkes, Mrs. James (Ellen Needs)</td>\n",
       "      <td>female</td>\n",
       "      <td>47.0</td>\n",
       "      <td>1</td>\n",
       "      <td>0</td>\n",
       "      <td>363272</td>\n",
       "      <td>7.0000</td>\n",
       "      <td>NaN</td>\n",
       "      <td>S</td>\n",
       "    </tr>\n",
       "    <tr>\n",
       "      <th>2</th>\n",
       "      <td>894</td>\n",
       "      <td>2</td>\n",
       "      <td>Myles, Mr. Thomas Francis</td>\n",
       "      <td>male</td>\n",
       "      <td>62.0</td>\n",
       "      <td>0</td>\n",
       "      <td>0</td>\n",
       "      <td>240276</td>\n",
       "      <td>9.6875</td>\n",
       "      <td>NaN</td>\n",
       "      <td>Q</td>\n",
       "    </tr>\n",
       "    <tr>\n",
       "      <th>3</th>\n",
       "      <td>895</td>\n",
       "      <td>3</td>\n",
       "      <td>Wirz, Mr. Albert</td>\n",
       "      <td>male</td>\n",
       "      <td>27.0</td>\n",
       "      <td>0</td>\n",
       "      <td>0</td>\n",
       "      <td>315154</td>\n",
       "      <td>8.6625</td>\n",
       "      <td>NaN</td>\n",
       "      <td>S</td>\n",
       "    </tr>\n",
       "    <tr>\n",
       "      <th>4</th>\n",
       "      <td>896</td>\n",
       "      <td>3</td>\n",
       "      <td>Hirvonen, Mrs. Alexander (Helga E Lindqvist)</td>\n",
       "      <td>female</td>\n",
       "      <td>22.0</td>\n",
       "      <td>1</td>\n",
       "      <td>1</td>\n",
       "      <td>3101298</td>\n",
       "      <td>12.2875</td>\n",
       "      <td>NaN</td>\n",
       "      <td>S</td>\n",
       "    </tr>\n",
       "  </tbody>\n",
       "</table>\n",
       "</div>"
      ],
      "text/plain": [
       "   PassengerId  Pclass                                          Name     Sex  \\\n",
       "0          892       3                              Kelly, Mr. James    male   \n",
       "1          893       3              Wilkes, Mrs. James (Ellen Needs)  female   \n",
       "2          894       2                     Myles, Mr. Thomas Francis    male   \n",
       "3          895       3                              Wirz, Mr. Albert    male   \n",
       "4          896       3  Hirvonen, Mrs. Alexander (Helga E Lindqvist)  female   \n",
       "\n",
       "    Age  SibSp  Parch   Ticket     Fare Cabin Embarked  \n",
       "0  34.5      0      0   330911   7.8292   NaN        Q  \n",
       "1  47.0      1      0   363272   7.0000   NaN        S  \n",
       "2  62.0      0      0   240276   9.6875   NaN        Q  \n",
       "3  27.0      0      0   315154   8.6625   NaN        S  \n",
       "4  22.0      1      1  3101298  12.2875   NaN        S  "
      ]
     },
     "execution_count": 8,
     "metadata": {},
     "output_type": "execute_result"
    }
   ],
   "source": [
    "df_test.head()"
   ]
  },
  {
   "cell_type": "code",
   "execution_count": 9,
   "id": "f2ac949c",
   "metadata": {
    "execution": {
     "iopub.execute_input": "2023-04-27T06:58:48.844615Z",
     "iopub.status.busy": "2023-04-27T06:58:48.843810Z",
     "iopub.status.idle": "2023-04-27T06:58:48.850790Z",
     "shell.execute_reply": "2023-04-27T06:58:48.849388Z"
    },
    "id": "XCiqZZkLjOMZ",
    "outputId": "8c788c80-af3e-48c8-8f96-3ff67357698e",
    "papermill": {
     "duration": 0.026478,
     "end_time": "2023-04-27T06:58:48.853210",
     "exception": false,
     "start_time": "2023-04-27T06:58:48.826732",
     "status": "completed"
    },
    "tags": []
   },
   "outputs": [
    {
     "name": "stdout",
     "output_type": "stream",
     "text": [
      "(891, 12) shape of training dataset\n",
      "(418, 11) shape of testing dataset\n"
     ]
    }
   ],
   "source": [
    "print(df.shape,\"shape of training dataset\")\n",
    "print(df_test.shape,\"shape of testing dataset\")\n"
   ]
  },
  {
   "cell_type": "code",
   "execution_count": 10,
   "id": "19cef9a1",
   "metadata": {
    "execution": {
     "iopub.execute_input": "2023-04-27T06:58:48.886320Z",
     "iopub.status.busy": "2023-04-27T06:58:48.885569Z",
     "iopub.status.idle": "2023-04-27T06:58:48.911767Z",
     "shell.execute_reply": "2023-04-27T06:58:48.910042Z"
    },
    "id": "Dl8OVXMKkEQs",
    "outputId": "1bf66b92-5f12-443d-8394-e3245856f2fb",
    "papermill": {
     "duration": 0.04582,
     "end_time": "2023-04-27T06:58:48.914385",
     "exception": false,
     "start_time": "2023-04-27T06:58:48.868565",
     "status": "completed"
    },
    "tags": []
   },
   "outputs": [
    {
     "name": "stdout",
     "output_type": "stream",
     "text": [
      "<class 'pandas.core.frame.DataFrame'>\n",
      "RangeIndex: 891 entries, 0 to 890\n",
      "Data columns (total 12 columns):\n",
      " #   Column       Non-Null Count  Dtype  \n",
      "---  ------       --------------  -----  \n",
      " 0   PassengerId  891 non-null    int64  \n",
      " 1   Survived     891 non-null    int64  \n",
      " 2   Pclass       891 non-null    int64  \n",
      " 3   Name         891 non-null    object \n",
      " 4   Sex          891 non-null    object \n",
      " 5   Age          714 non-null    float64\n",
      " 6   SibSp        891 non-null    int64  \n",
      " 7   Parch        891 non-null    int64  \n",
      " 8   Ticket       891 non-null    object \n",
      " 9   Fare         891 non-null    float64\n",
      " 10  Cabin        204 non-null    object \n",
      " 11  Embarked     889 non-null    object \n",
      "dtypes: float64(2), int64(5), object(5)\n",
      "memory usage: 83.7+ KB\n"
     ]
    }
   ],
   "source": [
    "df.info()"
   ]
  },
  {
   "cell_type": "code",
   "execution_count": 11,
   "id": "cd5526cf",
   "metadata": {
    "execution": {
     "iopub.execute_input": "2023-04-27T06:58:48.947993Z",
     "iopub.status.busy": "2023-04-27T06:58:48.946941Z",
     "iopub.status.idle": "2023-04-27T06:58:48.963803Z",
     "shell.execute_reply": "2023-04-27T06:58:48.962172Z"
    },
    "id": "lnV3MEJZkJpK",
    "outputId": "e6a6daf4-a3f6-4fea-88dc-5d99764b4097",
    "papermill": {
     "duration": 0.036454,
     "end_time": "2023-04-27T06:58:48.966456",
     "exception": false,
     "start_time": "2023-04-27T06:58:48.930002",
     "status": "completed"
    },
    "tags": []
   },
   "outputs": [
    {
     "name": "stdout",
     "output_type": "stream",
     "text": [
      "<class 'pandas.core.frame.DataFrame'>\n",
      "RangeIndex: 418 entries, 0 to 417\n",
      "Data columns (total 11 columns):\n",
      " #   Column       Non-Null Count  Dtype  \n",
      "---  ------       --------------  -----  \n",
      " 0   PassengerId  418 non-null    int64  \n",
      " 1   Pclass       418 non-null    int64  \n",
      " 2   Name         418 non-null    object \n",
      " 3   Sex          418 non-null    object \n",
      " 4   Age          332 non-null    float64\n",
      " 5   SibSp        418 non-null    int64  \n",
      " 6   Parch        418 non-null    int64  \n",
      " 7   Ticket       418 non-null    object \n",
      " 8   Fare         417 non-null    float64\n",
      " 9   Cabin        91 non-null     object \n",
      " 10  Embarked     418 non-null    object \n",
      "dtypes: float64(2), int64(4), object(5)\n",
      "memory usage: 36.0+ KB\n"
     ]
    }
   ],
   "source": [
    "df_test.info()"
   ]
  },
  {
   "cell_type": "markdown",
   "id": "96956afd",
   "metadata": {
    "id": "3m-K0k5-h1CL",
    "papermill": {
     "duration": 0.015484,
     "end_time": "2023-04-27T06:58:48.997649",
     "exception": false,
     "start_time": "2023-04-27T06:58:48.982165",
     "status": "completed"
    },
    "tags": []
   },
   "source": [
    "## Data pre-processing"
   ]
  },
  {
   "cell_type": "code",
   "execution_count": 12,
   "id": "13a2ef8e",
   "metadata": {
    "execution": {
     "iopub.execute_input": "2023-04-27T06:58:49.031412Z",
     "iopub.status.busy": "2023-04-27T06:58:49.030239Z",
     "iopub.status.idle": "2023-04-27T06:58:49.045560Z",
     "shell.execute_reply": "2023-04-27T06:58:49.044130Z"
    },
    "id": "4yJC7r3Prz9K",
    "outputId": "0020e0be-061c-4c3a-91b3-295ad9eec97f",
    "papermill": {
     "duration": 0.034957,
     "end_time": "2023-04-27T06:58:49.048164",
     "exception": false,
     "start_time": "2023-04-27T06:58:49.013207",
     "status": "completed"
    },
    "tags": []
   },
   "outputs": [
    {
     "data": {
      "text/plain": [
       "0"
      ]
     },
     "execution_count": 12,
     "metadata": {},
     "output_type": "execute_result"
    }
   ],
   "source": [
    "df.duplicated().sum()"
   ]
  },
  {
   "cell_type": "code",
   "execution_count": 13,
   "id": "09de58ae",
   "metadata": {
    "execution": {
     "iopub.execute_input": "2023-04-27T06:58:49.081511Z",
     "iopub.status.busy": "2023-04-27T06:58:49.081028Z",
     "iopub.status.idle": "2023-04-27T06:58:49.092038Z",
     "shell.execute_reply": "2023-04-27T06:58:49.090631Z"
    },
    "id": "SBt2B1-kshv1",
    "outputId": "0f152ed3-643f-489c-d558-f800dbeb3d8b",
    "papermill": {
     "duration": 0.030941,
     "end_time": "2023-04-27T06:58:49.094842",
     "exception": false,
     "start_time": "2023-04-27T06:58:49.063901",
     "status": "completed"
    },
    "tags": []
   },
   "outputs": [
    {
     "data": {
      "text/plain": [
       "0"
      ]
     },
     "execution_count": 13,
     "metadata": {},
     "output_type": "execute_result"
    }
   ],
   "source": [
    "df_test.duplicated().sum()\n"
   ]
  },
  {
   "cell_type": "code",
   "execution_count": 14,
   "id": "1aa3888f",
   "metadata": {
    "execution": {
     "iopub.execute_input": "2023-04-27T06:58:49.128904Z",
     "iopub.status.busy": "2023-04-27T06:58:49.128453Z",
     "iopub.status.idle": "2023-04-27T06:58:49.137239Z",
     "shell.execute_reply": "2023-04-27T06:58:49.136025Z"
    },
    "id": "zNSnNooes0Na",
    "outputId": "54fdab5d-ef58-4f98-d8a1-133ae53137a1",
    "papermill": {
     "duration": 0.029219,
     "end_time": "2023-04-27T06:58:49.139961",
     "exception": false,
     "start_time": "2023-04-27T06:58:49.110742",
     "status": "completed"
    },
    "tags": []
   },
   "outputs": [
    {
     "data": {
      "text/plain": [
       "array(['male', 'female'], dtype=object)"
      ]
     },
     "execution_count": 14,
     "metadata": {},
     "output_type": "execute_result"
    }
   ],
   "source": [
    "df[\"Sex\"].unique()"
   ]
  },
  {
   "cell_type": "code",
   "execution_count": 15,
   "id": "bac80ac7",
   "metadata": {
    "execution": {
     "iopub.execute_input": "2023-04-27T06:58:49.175613Z",
     "iopub.status.busy": "2023-04-27T06:58:49.174751Z",
     "iopub.status.idle": "2023-04-27T06:58:49.183271Z",
     "shell.execute_reply": "2023-04-27T06:58:49.181840Z"
    },
    "id": "8beaxVMWs9jx",
    "outputId": "2a165cad-73fa-4cb5-f084-876c3f747be7",
    "papermill": {
     "duration": 0.029386,
     "end_time": "2023-04-27T06:58:49.185943",
     "exception": false,
     "start_time": "2023-04-27T06:58:49.156557",
     "status": "completed"
    },
    "tags": []
   },
   "outputs": [
    {
     "data": {
      "text/plain": [
       "array(['male', 'female'], dtype=object)"
      ]
     },
     "execution_count": 15,
     "metadata": {},
     "output_type": "execute_result"
    }
   ],
   "source": [
    "df_test[\"Sex\"].unique()"
   ]
  },
  {
   "cell_type": "code",
   "execution_count": 16,
   "id": "b33405bd",
   "metadata": {
    "execution": {
     "iopub.execute_input": "2023-04-27T06:58:49.221701Z",
     "iopub.status.busy": "2023-04-27T06:58:49.221226Z",
     "iopub.status.idle": "2023-04-27T06:58:49.232449Z",
     "shell.execute_reply": "2023-04-27T06:58:49.231034Z"
    },
    "id": "jzIzG9ZUqoOF",
    "outputId": "2fde3ef3-d870-4060-bb76-d260b436d2e1",
    "papermill": {
     "duration": 0.033209,
     "end_time": "2023-04-27T06:58:49.235231",
     "exception": false,
     "start_time": "2023-04-27T06:58:49.202022",
     "status": "completed"
    },
    "tags": []
   },
   "outputs": [
    {
     "name": "stdout",
     "output_type": "stream",
     "text": [
      "PassengerId      0\n",
      "Survived         0\n",
      "Pclass           0\n",
      "Name             0\n",
      "Sex              0\n",
      "Age            177\n",
      "SibSp            0\n",
      "Parch            0\n",
      "Ticket           0\n",
      "Fare             0\n",
      "Cabin          687\n",
      "Embarked         2\n",
      "dtype: int64\n",
      "-----------\n",
      "PassengerId      0\n",
      "Pclass           0\n",
      "Name             0\n",
      "Sex              0\n",
      "Age             86\n",
      "SibSp            0\n",
      "Parch            0\n",
      "Ticket           0\n",
      "Fare             1\n",
      "Cabin          327\n",
      "Embarked         0\n",
      "dtype: int64\n"
     ]
    }
   ],
   "source": [
    "print(df.isnull().sum())\n",
    "print('-----------')\n",
    "print(df_test.isnull().sum())"
   ]
  },
  {
   "cell_type": "code",
   "execution_count": 17,
   "id": "39b98114",
   "metadata": {
    "execution": {
     "iopub.execute_input": "2023-04-27T06:58:49.269886Z",
     "iopub.status.busy": "2023-04-27T06:58:49.268697Z",
     "iopub.status.idle": "2023-04-27T06:58:49.280170Z",
     "shell.execute_reply": "2023-04-27T06:58:49.279041Z"
    },
    "id": "8L4lo69etnLm",
    "outputId": "a6f06a9d-9758-4dfc-8e3e-59b39d491f2f",
    "papermill": {
     "duration": 0.031585,
     "end_time": "2023-04-27T06:58:49.282847",
     "exception": false,
     "start_time": "2023-04-27T06:58:49.251262",
     "status": "completed"
    },
    "tags": []
   },
   "outputs": [
    {
     "data": {
      "text/plain": [
       "0    22.0\n",
       "1    38.0\n",
       "2    26.0\n",
       "3    35.0\n",
       "4    35.0\n",
       "5    28.0\n",
       "6    54.0\n",
       "7     2.0\n",
       "8    27.0\n",
       "9    14.0\n",
       "Name: Age, dtype: float64"
      ]
     },
     "execution_count": 17,
     "metadata": {},
     "output_type": "execute_result"
    }
   ],
   "source": [
    "df[\"Age\"] = df[\"Age\"].fillna(df[\"Age\"].median())\n",
    "df[\"Age\"].head(10)"
   ]
  },
  {
   "cell_type": "code",
   "execution_count": 18,
   "id": "a1b03a43",
   "metadata": {
    "execution": {
     "iopub.execute_input": "2023-04-27T06:58:49.318288Z",
     "iopub.status.busy": "2023-04-27T06:58:49.317233Z",
     "iopub.status.idle": "2023-04-27T06:58:49.329553Z",
     "shell.execute_reply": "2023-04-27T06:58:49.328314Z"
    },
    "id": "3mnpK2tkt3Or",
    "outputId": "0ca60508-3da7-4b41-e38f-52f61dd7e099",
    "papermill": {
     "duration": 0.032304,
     "end_time": "2023-04-27T06:58:49.331902",
     "exception": false,
     "start_time": "2023-04-27T06:58:49.299598",
     "status": "completed"
    },
    "tags": []
   },
   "outputs": [
    {
     "data": {
      "text/plain": [
       "0    22.0\n",
       "1    38.0\n",
       "2    26.0\n",
       "3    35.0\n",
       "4    35.0\n",
       "5    28.0\n",
       "6    54.0\n",
       "7     2.0\n",
       "8    27.0\n",
       "9    14.0\n",
       "Name: Age, dtype: float64"
      ]
     },
     "execution_count": 18,
     "metadata": {},
     "output_type": "execute_result"
    }
   ],
   "source": [
    "df_test[\"Age\"] = df[\"Age\"].fillna(df[\"Age\"].median())\n",
    "df_test[\"Age\"].head(10)"
   ]
  },
  {
   "cell_type": "code",
   "execution_count": 19,
   "id": "7d603bda",
   "metadata": {
    "execution": {
     "iopub.execute_input": "2023-04-27T06:58:49.366948Z",
     "iopub.status.busy": "2023-04-27T06:58:49.365893Z",
     "iopub.status.idle": "2023-04-27T06:58:49.378319Z",
     "shell.execute_reply": "2023-04-27T06:58:49.376729Z"
    },
    "id": "WLr3xAUfuBvE",
    "outputId": "f82c0a3c-7315-4ce4-8547-a318acfea694",
    "papermill": {
     "duration": 0.032721,
     "end_time": "2023-04-27T06:58:49.380921",
     "exception": false,
     "start_time": "2023-04-27T06:58:49.348200",
     "status": "completed"
    },
    "tags": []
   },
   "outputs": [
    {
     "name": "stdout",
     "output_type": "stream",
     "text": [
      "PassengerId      0\n",
      "Survived         0\n",
      "Pclass           0\n",
      "Name             0\n",
      "Sex              0\n",
      "Age              0\n",
      "SibSp            0\n",
      "Parch            0\n",
      "Ticket           0\n",
      "Fare             0\n",
      "Cabin          687\n",
      "Embarked         2\n",
      "dtype: int64\n",
      "-----------\n",
      "PassengerId      0\n",
      "Pclass           0\n",
      "Name             0\n",
      "Sex              0\n",
      "Age              0\n",
      "SibSp            0\n",
      "Parch            0\n",
      "Ticket           0\n",
      "Fare             1\n",
      "Cabin          327\n",
      "Embarked         0\n",
      "dtype: int64\n"
     ]
    }
   ],
   "source": [
    "print(df.isnull().sum())\n",
    "print('-----------')\n",
    "print(df_test.isnull().sum())"
   ]
  },
  {
   "cell_type": "code",
   "execution_count": 20,
   "id": "52282289",
   "metadata": {
    "execution": {
     "iopub.execute_input": "2023-04-27T06:58:49.418368Z",
     "iopub.status.busy": "2023-04-27T06:58:49.416977Z",
     "iopub.status.idle": "2023-04-27T06:58:49.425086Z",
     "shell.execute_reply": "2023-04-27T06:58:49.423527Z"
    },
    "id": "FSbw3wvouZXS",
    "outputId": "2da2735e-9c61-4198-9d2d-b6d36a396940",
    "papermill": {
     "duration": 0.029594,
     "end_time": "2023-04-27T06:58:49.427747",
     "exception": false,
     "start_time": "2023-04-27T06:58:49.398153",
     "status": "completed"
    },
    "tags": []
   },
   "outputs": [
    {
     "name": "stdout",
     "output_type": "stream",
     "text": [
      "0.7710437710437711\n"
     ]
    }
   ],
   "source": [
    "print(df.Cabin.isnull().sum() / len(df))"
   ]
  },
  {
   "cell_type": "markdown",
   "id": "c3a70df8",
   "metadata": {
    "id": "T4s1HPWHua8D",
    "papermill": {
     "duration": 0.016183,
     "end_time": "2023-04-27T06:58:49.460726",
     "exception": false,
     "start_time": "2023-04-27T06:58:49.444543",
     "status": "completed"
    },
    "tags": []
   },
   "source": [
    "Almost 80% of the Cabin data is missing. That probably means only 20% of the passengers had a cabin. This feature should be dropped. "
   ]
  },
  {
   "cell_type": "code",
   "execution_count": 21,
   "id": "df929247",
   "metadata": {
    "execution": {
     "iopub.execute_input": "2023-04-27T06:58:49.496387Z",
     "iopub.status.busy": "2023-04-27T06:58:49.495620Z",
     "iopub.status.idle": "2023-04-27T06:58:49.530941Z",
     "shell.execute_reply": "2023-04-27T06:58:49.529427Z"
    },
    "id": "9FfspsOvv76f",
    "outputId": "a24989ac-91b3-49c7-ce27-7b5d3f25dcfe",
    "papermill": {
     "duration": 0.056073,
     "end_time": "2023-04-27T06:58:49.533714",
     "exception": false,
     "start_time": "2023-04-27T06:58:49.477641",
     "status": "completed"
    },
    "tags": []
   },
   "outputs": [
    {
     "data": {
      "text/html": [
       "<div>\n",
       "<style scoped>\n",
       "    .dataframe tbody tr th:only-of-type {\n",
       "        vertical-align: middle;\n",
       "    }\n",
       "\n",
       "    .dataframe tbody tr th {\n",
       "        vertical-align: top;\n",
       "    }\n",
       "\n",
       "    .dataframe thead th {\n",
       "        text-align: right;\n",
       "    }\n",
       "</style>\n",
       "<table border=\"1\" class=\"dataframe\">\n",
       "  <thead>\n",
       "    <tr style=\"text-align: right;\">\n",
       "      <th></th>\n",
       "      <th>PassengerId</th>\n",
       "      <th>Survived</th>\n",
       "      <th>Pclass</th>\n",
       "      <th>Age</th>\n",
       "      <th>SibSp</th>\n",
       "      <th>Parch</th>\n",
       "      <th>Fare</th>\n",
       "    </tr>\n",
       "  </thead>\n",
       "  <tbody>\n",
       "    <tr>\n",
       "      <th>count</th>\n",
       "      <td>891.000000</td>\n",
       "      <td>891.000000</td>\n",
       "      <td>891.000000</td>\n",
       "      <td>891.000000</td>\n",
       "      <td>891.000000</td>\n",
       "      <td>891.000000</td>\n",
       "      <td>891.000000</td>\n",
       "    </tr>\n",
       "    <tr>\n",
       "      <th>mean</th>\n",
       "      <td>446.000000</td>\n",
       "      <td>0.383838</td>\n",
       "      <td>2.308642</td>\n",
       "      <td>29.361582</td>\n",
       "      <td>0.523008</td>\n",
       "      <td>0.381594</td>\n",
       "      <td>32.204208</td>\n",
       "    </tr>\n",
       "    <tr>\n",
       "      <th>std</th>\n",
       "      <td>257.353842</td>\n",
       "      <td>0.486592</td>\n",
       "      <td>0.836071</td>\n",
       "      <td>13.019697</td>\n",
       "      <td>1.102743</td>\n",
       "      <td>0.806057</td>\n",
       "      <td>49.693429</td>\n",
       "    </tr>\n",
       "    <tr>\n",
       "      <th>min</th>\n",
       "      <td>1.000000</td>\n",
       "      <td>0.000000</td>\n",
       "      <td>1.000000</td>\n",
       "      <td>0.420000</td>\n",
       "      <td>0.000000</td>\n",
       "      <td>0.000000</td>\n",
       "      <td>0.000000</td>\n",
       "    </tr>\n",
       "    <tr>\n",
       "      <th>25%</th>\n",
       "      <td>223.500000</td>\n",
       "      <td>0.000000</td>\n",
       "      <td>2.000000</td>\n",
       "      <td>22.000000</td>\n",
       "      <td>0.000000</td>\n",
       "      <td>0.000000</td>\n",
       "      <td>7.910400</td>\n",
       "    </tr>\n",
       "    <tr>\n",
       "      <th>50%</th>\n",
       "      <td>446.000000</td>\n",
       "      <td>0.000000</td>\n",
       "      <td>3.000000</td>\n",
       "      <td>28.000000</td>\n",
       "      <td>0.000000</td>\n",
       "      <td>0.000000</td>\n",
       "      <td>14.454200</td>\n",
       "    </tr>\n",
       "    <tr>\n",
       "      <th>75%</th>\n",
       "      <td>668.500000</td>\n",
       "      <td>1.000000</td>\n",
       "      <td>3.000000</td>\n",
       "      <td>35.000000</td>\n",
       "      <td>1.000000</td>\n",
       "      <td>0.000000</td>\n",
       "      <td>31.000000</td>\n",
       "    </tr>\n",
       "    <tr>\n",
       "      <th>max</th>\n",
       "      <td>891.000000</td>\n",
       "      <td>1.000000</td>\n",
       "      <td>3.000000</td>\n",
       "      <td>80.000000</td>\n",
       "      <td>8.000000</td>\n",
       "      <td>6.000000</td>\n",
       "      <td>512.329200</td>\n",
       "    </tr>\n",
       "  </tbody>\n",
       "</table>\n",
       "</div>"
      ],
      "text/plain": [
       "       PassengerId    Survived      Pclass         Age       SibSp  \\\n",
       "count   891.000000  891.000000  891.000000  891.000000  891.000000   \n",
       "mean    446.000000    0.383838    2.308642   29.361582    0.523008   \n",
       "std     257.353842    0.486592    0.836071   13.019697    1.102743   \n",
       "min       1.000000    0.000000    1.000000    0.420000    0.000000   \n",
       "25%     223.500000    0.000000    2.000000   22.000000    0.000000   \n",
       "50%     446.000000    0.000000    3.000000   28.000000    0.000000   \n",
       "75%     668.500000    1.000000    3.000000   35.000000    1.000000   \n",
       "max     891.000000    1.000000    3.000000   80.000000    8.000000   \n",
       "\n",
       "            Parch        Fare  \n",
       "count  891.000000  891.000000  \n",
       "mean     0.381594   32.204208  \n",
       "std      0.806057   49.693429  \n",
       "min      0.000000    0.000000  \n",
       "25%      0.000000    7.910400  \n",
       "50%      0.000000   14.454200  \n",
       "75%      0.000000   31.000000  \n",
       "max      6.000000  512.329200  "
      ]
     },
     "execution_count": 21,
     "metadata": {},
     "output_type": "execute_result"
    }
   ],
   "source": [
    "df.describe()"
   ]
  },
  {
   "cell_type": "code",
   "execution_count": 22,
   "id": "152a6a91",
   "metadata": {
    "execution": {
     "iopub.execute_input": "2023-04-27T06:58:49.573217Z",
     "iopub.status.busy": "2023-04-27T06:58:49.572432Z",
     "iopub.status.idle": "2023-04-27T06:58:49.589146Z",
     "shell.execute_reply": "2023-04-27T06:58:49.587681Z"
    },
    "id": "h-Da-QiOwSJl",
    "outputId": "0a95db14-3b47-4a2e-89d6-0b8f5a5062e0",
    "papermill": {
     "duration": 0.040925,
     "end_time": "2023-04-27T06:58:49.591935",
     "exception": false,
     "start_time": "2023-04-27T06:58:49.551010",
     "status": "completed"
    },
    "tags": []
   },
   "outputs": [
    {
     "data": {
      "text/html": [
       "<div>\n",
       "<style scoped>\n",
       "    .dataframe tbody tr th:only-of-type {\n",
       "        vertical-align: middle;\n",
       "    }\n",
       "\n",
       "    .dataframe tbody tr th {\n",
       "        vertical-align: top;\n",
       "    }\n",
       "\n",
       "    .dataframe thead th {\n",
       "        text-align: right;\n",
       "    }\n",
       "</style>\n",
       "<table border=\"1\" class=\"dataframe\">\n",
       "  <thead>\n",
       "    <tr style=\"text-align: right;\">\n",
       "      <th></th>\n",
       "      <th>Survived</th>\n",
       "      <th>Pclass</th>\n",
       "      <th>Sex</th>\n",
       "      <th>Age</th>\n",
       "      <th>SibSp</th>\n",
       "      <th>Parch</th>\n",
       "      <th>Embarked</th>\n",
       "    </tr>\n",
       "  </thead>\n",
       "  <tbody>\n",
       "    <tr>\n",
       "      <th>0</th>\n",
       "      <td>0</td>\n",
       "      <td>3</td>\n",
       "      <td>male</td>\n",
       "      <td>22.0</td>\n",
       "      <td>1</td>\n",
       "      <td>0</td>\n",
       "      <td>S</td>\n",
       "    </tr>\n",
       "    <tr>\n",
       "      <th>1</th>\n",
       "      <td>1</td>\n",
       "      <td>1</td>\n",
       "      <td>female</td>\n",
       "      <td>38.0</td>\n",
       "      <td>1</td>\n",
       "      <td>0</td>\n",
       "      <td>C</td>\n",
       "    </tr>\n",
       "    <tr>\n",
       "      <th>2</th>\n",
       "      <td>1</td>\n",
       "      <td>3</td>\n",
       "      <td>female</td>\n",
       "      <td>26.0</td>\n",
       "      <td>0</td>\n",
       "      <td>0</td>\n",
       "      <td>S</td>\n",
       "    </tr>\n",
       "    <tr>\n",
       "      <th>3</th>\n",
       "      <td>1</td>\n",
       "      <td>1</td>\n",
       "      <td>female</td>\n",
       "      <td>35.0</td>\n",
       "      <td>1</td>\n",
       "      <td>0</td>\n",
       "      <td>S</td>\n",
       "    </tr>\n",
       "    <tr>\n",
       "      <th>4</th>\n",
       "      <td>0</td>\n",
       "      <td>3</td>\n",
       "      <td>male</td>\n",
       "      <td>35.0</td>\n",
       "      <td>0</td>\n",
       "      <td>0</td>\n",
       "      <td>S</td>\n",
       "    </tr>\n",
       "  </tbody>\n",
       "</table>\n",
       "</div>"
      ],
      "text/plain": [
       "   Survived  Pclass     Sex   Age  SibSp  Parch Embarked\n",
       "0         0       3    male  22.0      1      0        S\n",
       "1         1       1  female  38.0      1      0        C\n",
       "2         1       3  female  26.0      0      0        S\n",
       "3         1       1  female  35.0      1      0        S\n",
       "4         0       3    male  35.0      0      0        S"
      ]
     },
     "execution_count": 22,
     "metadata": {},
     "output_type": "execute_result"
    }
   ],
   "source": [
    "df.drop([\"Cabin\",\"Name\",\"Ticket\", \"Fare\", \"PassengerId\"],axis = 1, inplace = True)\n",
    "df_test.drop([\"Cabin\",\"Name\",\"Ticket\", \"Fare\", \"PassengerId\"],axis = 1, inplace = True)\n",
    "df.head()"
   ]
  },
  {
   "cell_type": "code",
   "execution_count": 23,
   "id": "521c9bbc",
   "metadata": {
    "execution": {
     "iopub.execute_input": "2023-04-27T06:58:49.629338Z",
     "iopub.status.busy": "2023-04-27T06:58:49.628609Z",
     "iopub.status.idle": "2023-04-27T06:58:49.639048Z",
     "shell.execute_reply": "2023-04-27T06:58:49.637764Z"
    },
    "id": "Gw7OQcpYOYCz",
    "papermill": {
     "duration": 0.032496,
     "end_time": "2023-04-27T06:58:49.642024",
     "exception": false,
     "start_time": "2023-04-27T06:58:49.609528",
     "status": "completed"
    },
    "tags": []
   },
   "outputs": [],
   "source": [
    "df.Embarked=df.Embarked.map({'S':0,'C':1,'Q':2,'nan':'NaN'})\n",
    "df.Sex=df.Sex.map({'female':0,'male':1})"
   ]
  },
  {
   "cell_type": "code",
   "execution_count": 24,
   "id": "b4007b7b",
   "metadata": {
    "execution": {
     "iopub.execute_input": "2023-04-27T06:58:49.679741Z",
     "iopub.status.busy": "2023-04-27T06:58:49.678885Z",
     "iopub.status.idle": "2023-04-27T06:58:49.685816Z",
     "shell.execute_reply": "2023-04-27T06:58:49.684681Z"
    },
    "id": "fgxWMWmMQmpD",
    "outputId": "609b1e07-1720-4144-dc73-a889367f5724",
    "papermill": {
     "duration": 0.028529,
     "end_time": "2023-04-27T06:58:49.688313",
     "exception": false,
     "start_time": "2023-04-27T06:58:49.659784",
     "status": "completed"
    },
    "tags": []
   },
   "outputs": [
    {
     "name": "stdout",
     "output_type": "stream",
     "text": [
      "[0 1 2 nan]\n",
      "3\n"
     ]
    }
   ],
   "source": [
    "print(df['Embarked'].unique())\n",
    "print(df['Embarked'].nunique())"
   ]
  },
  {
   "cell_type": "code",
   "execution_count": 25,
   "id": "3d21fa01",
   "metadata": {
    "execution": {
     "iopub.execute_input": "2023-04-27T06:58:49.724712Z",
     "iopub.status.busy": "2023-04-27T06:58:49.723816Z",
     "iopub.status.idle": "2023-04-27T06:58:49.730595Z",
     "shell.execute_reply": "2023-04-27T06:58:49.729645Z"
    },
    "id": "CLQerCyDRJmP",
    "outputId": "a877b7ad-1801-437c-a2c1-d51eb17b19d4",
    "papermill": {
     "duration": 0.028113,
     "end_time": "2023-04-27T06:58:49.733392",
     "exception": false,
     "start_time": "2023-04-27T06:58:49.705279",
     "status": "completed"
    },
    "tags": []
   },
   "outputs": [
    {
     "name": "stdout",
     "output_type": "stream",
     "text": [
      "0    0\n",
      "dtype: object\n"
     ]
    }
   ],
   "source": [
    "Embarked = df['Embarked'].mode()\n",
    "print(Embarked)"
   ]
  },
  {
   "cell_type": "code",
   "execution_count": 26,
   "id": "54f6591c",
   "metadata": {
    "execution": {
     "iopub.execute_input": "2023-04-27T06:58:49.770061Z",
     "iopub.status.busy": "2023-04-27T06:58:49.769582Z",
     "iopub.status.idle": "2023-04-27T06:58:49.775981Z",
     "shell.execute_reply": "2023-04-27T06:58:49.774622Z"
    },
    "id": "cVrKEbf7RUun",
    "papermill": {
     "duration": 0.027845,
     "end_time": "2023-04-27T06:58:49.778662",
     "exception": false,
     "start_time": "2023-04-27T06:58:49.750817",
     "status": "completed"
    },
    "tags": []
   },
   "outputs": [],
   "source": [
    "df['Embarked'] = df['Embarked'].fillna('0')"
   ]
  },
  {
   "cell_type": "code",
   "execution_count": 27,
   "id": "49515aef",
   "metadata": {
    "execution": {
     "iopub.execute_input": "2023-04-27T06:58:49.815291Z",
     "iopub.status.busy": "2023-04-27T06:58:49.814583Z",
     "iopub.status.idle": "2023-04-27T06:58:49.824642Z",
     "shell.execute_reply": "2023-04-27T06:58:49.823400Z"
    },
    "id": "fP3EmsquRgtd",
    "outputId": "6d7e2c79-ebdf-4df7-e500-ef498ad0802b",
    "papermill": {
     "duration": 0.031298,
     "end_time": "2023-04-27T06:58:49.827119",
     "exception": false,
     "start_time": "2023-04-27T06:58:49.795821",
     "status": "completed"
    },
    "tags": []
   },
   "outputs": [
    {
     "data": {
      "text/plain": [
       "Survived    0\n",
       "Pclass      0\n",
       "Sex         0\n",
       "Age         0\n",
       "SibSp       0\n",
       "Parch       0\n",
       "Embarked    0\n",
       "dtype: int64"
      ]
     },
     "execution_count": 27,
     "metadata": {},
     "output_type": "execute_result"
    }
   ],
   "source": [
    "df.isna().sum()"
   ]
  },
  {
   "cell_type": "markdown",
   "id": "372e9205",
   "metadata": {
    "id": "2PvXbqTZl30l",
    "papermill": {
     "duration": 0.016999,
     "end_time": "2023-04-27T06:58:49.861824",
     "exception": false,
     "start_time": "2023-04-27T06:58:49.844825",
     "status": "completed"
    },
    "tags": []
   },
   "source": [
    "# EDA"
   ]
  },
  {
   "cell_type": "code",
   "execution_count": 28,
   "id": "5b100013",
   "metadata": {
    "execution": {
     "iopub.execute_input": "2023-04-27T06:58:49.898841Z",
     "iopub.status.busy": "2023-04-27T06:58:49.898083Z",
     "iopub.status.idle": "2023-04-27T06:58:49.912461Z",
     "shell.execute_reply": "2023-04-27T06:58:49.911118Z"
    },
    "id": "I1JvbNVWl21P",
    "outputId": "a869ca0d-9e39-47ea-8964-3a9f893b5c4a",
    "papermill": {
     "duration": 0.036232,
     "end_time": "2023-04-27T06:58:49.915162",
     "exception": false,
     "start_time": "2023-04-27T06:58:49.878930",
     "status": "completed"
    },
    "tags": []
   },
   "outputs": [
    {
     "data": {
      "text/html": [
       "<div>\n",
       "<style scoped>\n",
       "    .dataframe tbody tr th:only-of-type {\n",
       "        vertical-align: middle;\n",
       "    }\n",
       "\n",
       "    .dataframe tbody tr th {\n",
       "        vertical-align: top;\n",
       "    }\n",
       "\n",
       "    .dataframe thead th {\n",
       "        text-align: right;\n",
       "    }\n",
       "</style>\n",
       "<table border=\"1\" class=\"dataframe\">\n",
       "  <thead>\n",
       "    <tr style=\"text-align: right;\">\n",
       "      <th></th>\n",
       "      <th>Survived</th>\n",
       "    </tr>\n",
       "    <tr>\n",
       "      <th>Pclass</th>\n",
       "      <th></th>\n",
       "    </tr>\n",
       "  </thead>\n",
       "  <tbody>\n",
       "    <tr>\n",
       "      <th>1</th>\n",
       "      <td>0.629630</td>\n",
       "    </tr>\n",
       "    <tr>\n",
       "      <th>2</th>\n",
       "      <td>0.472826</td>\n",
       "    </tr>\n",
       "    <tr>\n",
       "      <th>3</th>\n",
       "      <td>0.242363</td>\n",
       "    </tr>\n",
       "  </tbody>\n",
       "</table>\n",
       "</div>"
      ],
      "text/plain": [
       "        Survived\n",
       "Pclass          \n",
       "1       0.629630\n",
       "2       0.472826\n",
       "3       0.242363"
      ]
     },
     "execution_count": 28,
     "metadata": {},
     "output_type": "execute_result"
    }
   ],
   "source": [
    "df[['Pclass', 'Survived']].groupby('Pclass').mean().sort_values(by='Survived', ascending=False)"
   ]
  },
  {
   "cell_type": "code",
   "execution_count": 29,
   "id": "22d5ab17",
   "metadata": {
    "execution": {
     "iopub.execute_input": "2023-04-27T06:58:49.953082Z",
     "iopub.status.busy": "2023-04-27T06:58:49.952297Z",
     "iopub.status.idle": "2023-04-27T06:58:49.966987Z",
     "shell.execute_reply": "2023-04-27T06:58:49.965596Z"
    },
    "id": "MnhZSPtUmDSC",
    "outputId": "65d425df-fff6-44d5-b31c-661bafc79fcf",
    "papermill": {
     "duration": 0.037059,
     "end_time": "2023-04-27T06:58:49.969631",
     "exception": false,
     "start_time": "2023-04-27T06:58:49.932572",
     "status": "completed"
    },
    "tags": []
   },
   "outputs": [
    {
     "data": {
      "text/html": [
       "<div>\n",
       "<style scoped>\n",
       "    .dataframe tbody tr th:only-of-type {\n",
       "        vertical-align: middle;\n",
       "    }\n",
       "\n",
       "    .dataframe tbody tr th {\n",
       "        vertical-align: top;\n",
       "    }\n",
       "\n",
       "    .dataframe thead th {\n",
       "        text-align: right;\n",
       "    }\n",
       "</style>\n",
       "<table border=\"1\" class=\"dataframe\">\n",
       "  <thead>\n",
       "    <tr style=\"text-align: right;\">\n",
       "      <th></th>\n",
       "      <th>Survived</th>\n",
       "    </tr>\n",
       "    <tr>\n",
       "      <th>Sex</th>\n",
       "      <th></th>\n",
       "    </tr>\n",
       "  </thead>\n",
       "  <tbody>\n",
       "    <tr>\n",
       "      <th>0</th>\n",
       "      <td>0.742038</td>\n",
       "    </tr>\n",
       "    <tr>\n",
       "      <th>1</th>\n",
       "      <td>0.188908</td>\n",
       "    </tr>\n",
       "  </tbody>\n",
       "</table>\n",
       "</div>"
      ],
      "text/plain": [
       "     Survived\n",
       "Sex          \n",
       "0    0.742038\n",
       "1    0.188908"
      ]
     },
     "execution_count": 29,
     "metadata": {},
     "output_type": "execute_result"
    }
   ],
   "source": [
    "df[['Sex', 'Survived']].groupby('Sex').mean().sort_values(by='Survived', ascending=False)"
   ]
  },
  {
   "cell_type": "code",
   "execution_count": 30,
   "id": "45badb48",
   "metadata": {
    "execution": {
     "iopub.execute_input": "2023-04-27T06:58:50.008570Z",
     "iopub.status.busy": "2023-04-27T06:58:50.007819Z",
     "iopub.status.idle": "2023-04-27T06:58:50.022474Z",
     "shell.execute_reply": "2023-04-27T06:58:50.021175Z"
    },
    "id": "p8tc74C7Aqvf",
    "outputId": "c2b9242f-e5ef-48ce-f7c8-1e10c1318775",
    "papermill": {
     "duration": 0.037625,
     "end_time": "2023-04-27T06:58:50.025136",
     "exception": false,
     "start_time": "2023-04-27T06:58:49.987511",
     "status": "completed"
    },
    "tags": []
   },
   "outputs": [
    {
     "data": {
      "text/html": [
       "<div>\n",
       "<style scoped>\n",
       "    .dataframe tbody tr th:only-of-type {\n",
       "        vertical-align: middle;\n",
       "    }\n",
       "\n",
       "    .dataframe tbody tr th {\n",
       "        vertical-align: top;\n",
       "    }\n",
       "\n",
       "    .dataframe thead th {\n",
       "        text-align: right;\n",
       "    }\n",
       "</style>\n",
       "<table border=\"1\" class=\"dataframe\">\n",
       "  <thead>\n",
       "    <tr style=\"text-align: right;\">\n",
       "      <th></th>\n",
       "      <th>Survived</th>\n",
       "    </tr>\n",
       "    <tr>\n",
       "      <th>Embarked</th>\n",
       "      <th></th>\n",
       "    </tr>\n",
       "  </thead>\n",
       "  <tbody>\n",
       "    <tr>\n",
       "      <th>0</th>\n",
       "      <td>1.000000</td>\n",
       "    </tr>\n",
       "    <tr>\n",
       "      <th>1</th>\n",
       "      <td>0.553571</td>\n",
       "    </tr>\n",
       "    <tr>\n",
       "      <th>2</th>\n",
       "      <td>0.389610</td>\n",
       "    </tr>\n",
       "    <tr>\n",
       "      <th>0</th>\n",
       "      <td>0.336957</td>\n",
       "    </tr>\n",
       "  </tbody>\n",
       "</table>\n",
       "</div>"
      ],
      "text/plain": [
       "          Survived\n",
       "Embarked          \n",
       "0         1.000000\n",
       "1         0.553571\n",
       "2         0.389610\n",
       "0         0.336957"
      ]
     },
     "execution_count": 30,
     "metadata": {},
     "output_type": "execute_result"
    }
   ],
   "source": [
    "df[['Embarked', 'Survived']].groupby('Embarked').mean().sort_values(by='Survived', ascending=False)"
   ]
  },
  {
   "cell_type": "code",
   "execution_count": 31,
   "id": "a8ffdcc8",
   "metadata": {
    "execution": {
     "iopub.execute_input": "2023-04-27T06:58:50.062850Z",
     "iopub.status.busy": "2023-04-27T06:58:50.062139Z",
     "iopub.status.idle": "2023-04-27T06:58:50.076219Z",
     "shell.execute_reply": "2023-04-27T06:58:50.074900Z"
    },
    "id": "H3paGpXsAuhP",
    "outputId": "a481ec45-a983-4e73-c4e7-5f98b5b6c211",
    "papermill": {
     "duration": 0.035893,
     "end_time": "2023-04-27T06:58:50.078744",
     "exception": false,
     "start_time": "2023-04-27T06:58:50.042851",
     "status": "completed"
    },
    "tags": []
   },
   "outputs": [
    {
     "data": {
      "text/html": [
       "<div>\n",
       "<style scoped>\n",
       "    .dataframe tbody tr th:only-of-type {\n",
       "        vertical-align: middle;\n",
       "    }\n",
       "\n",
       "    .dataframe tbody tr th {\n",
       "        vertical-align: top;\n",
       "    }\n",
       "\n",
       "    .dataframe thead th {\n",
       "        text-align: right;\n",
       "    }\n",
       "</style>\n",
       "<table border=\"1\" class=\"dataframe\">\n",
       "  <thead>\n",
       "    <tr style=\"text-align: right;\">\n",
       "      <th></th>\n",
       "      <th>Survived</th>\n",
       "    </tr>\n",
       "    <tr>\n",
       "      <th>SibSp</th>\n",
       "      <th></th>\n",
       "    </tr>\n",
       "  </thead>\n",
       "  <tbody>\n",
       "    <tr>\n",
       "      <th>1</th>\n",
       "      <td>0.535885</td>\n",
       "    </tr>\n",
       "    <tr>\n",
       "      <th>2</th>\n",
       "      <td>0.464286</td>\n",
       "    </tr>\n",
       "    <tr>\n",
       "      <th>0</th>\n",
       "      <td>0.345395</td>\n",
       "    </tr>\n",
       "    <tr>\n",
       "      <th>3</th>\n",
       "      <td>0.250000</td>\n",
       "    </tr>\n",
       "    <tr>\n",
       "      <th>4</th>\n",
       "      <td>0.166667</td>\n",
       "    </tr>\n",
       "    <tr>\n",
       "      <th>5</th>\n",
       "      <td>0.000000</td>\n",
       "    </tr>\n",
       "    <tr>\n",
       "      <th>8</th>\n",
       "      <td>0.000000</td>\n",
       "    </tr>\n",
       "  </tbody>\n",
       "</table>\n",
       "</div>"
      ],
      "text/plain": [
       "       Survived\n",
       "SibSp          \n",
       "1      0.535885\n",
       "2      0.464286\n",
       "0      0.345395\n",
       "3      0.250000\n",
       "4      0.166667\n",
       "5      0.000000\n",
       "8      0.000000"
      ]
     },
     "execution_count": 31,
     "metadata": {},
     "output_type": "execute_result"
    }
   ],
   "source": [
    "df[[\"SibSp\", \"Survived\"]].groupby(['SibSp']).mean().sort_values(by='Survived', ascending=False)"
   ]
  },
  {
   "cell_type": "code",
   "execution_count": 32,
   "id": "ab755a5e",
   "metadata": {
    "execution": {
     "iopub.execute_input": "2023-04-27T06:58:50.116572Z",
     "iopub.status.busy": "2023-04-27T06:58:50.115863Z",
     "iopub.status.idle": "2023-04-27T06:58:50.129931Z",
     "shell.execute_reply": "2023-04-27T06:58:50.128657Z"
    },
    "id": "cb3AyNPCctqS",
    "outputId": "73b936c2-949b-4d8d-cfc2-5122389bb0cb",
    "papermill": {
     "duration": 0.036062,
     "end_time": "2023-04-27T06:58:50.132469",
     "exception": false,
     "start_time": "2023-04-27T06:58:50.096407",
     "status": "completed"
    },
    "tags": []
   },
   "outputs": [
    {
     "data": {
      "text/html": [
       "<div>\n",
       "<style scoped>\n",
       "    .dataframe tbody tr th:only-of-type {\n",
       "        vertical-align: middle;\n",
       "    }\n",
       "\n",
       "    .dataframe tbody tr th {\n",
       "        vertical-align: top;\n",
       "    }\n",
       "\n",
       "    .dataframe thead th {\n",
       "        text-align: right;\n",
       "    }\n",
       "</style>\n",
       "<table border=\"1\" class=\"dataframe\">\n",
       "  <thead>\n",
       "    <tr style=\"text-align: right;\">\n",
       "      <th></th>\n",
       "      <th>Survived</th>\n",
       "    </tr>\n",
       "    <tr>\n",
       "      <th>Parch</th>\n",
       "      <th></th>\n",
       "    </tr>\n",
       "  </thead>\n",
       "  <tbody>\n",
       "    <tr>\n",
       "      <th>3</th>\n",
       "      <td>0.600000</td>\n",
       "    </tr>\n",
       "    <tr>\n",
       "      <th>1</th>\n",
       "      <td>0.550847</td>\n",
       "    </tr>\n",
       "    <tr>\n",
       "      <th>2</th>\n",
       "      <td>0.500000</td>\n",
       "    </tr>\n",
       "    <tr>\n",
       "      <th>0</th>\n",
       "      <td>0.343658</td>\n",
       "    </tr>\n",
       "    <tr>\n",
       "      <th>5</th>\n",
       "      <td>0.200000</td>\n",
       "    </tr>\n",
       "    <tr>\n",
       "      <th>4</th>\n",
       "      <td>0.000000</td>\n",
       "    </tr>\n",
       "    <tr>\n",
       "      <th>6</th>\n",
       "      <td>0.000000</td>\n",
       "    </tr>\n",
       "  </tbody>\n",
       "</table>\n",
       "</div>"
      ],
      "text/plain": [
       "       Survived\n",
       "Parch          \n",
       "3      0.600000\n",
       "1      0.550847\n",
       "2      0.500000\n",
       "0      0.343658\n",
       "5      0.200000\n",
       "4      0.000000\n",
       "6      0.000000"
      ]
     },
     "execution_count": 32,
     "metadata": {},
     "output_type": "execute_result"
    }
   ],
   "source": [
    "df[[\"Parch\", \"Survived\"]].groupby(['Parch']).mean().sort_values(by='Survived', ascending=False)"
   ]
  },
  {
   "cell_type": "code",
   "execution_count": 33,
   "id": "024a3891",
   "metadata": {
    "execution": {
     "iopub.execute_input": "2023-04-27T06:58:50.170450Z",
     "iopub.status.busy": "2023-04-27T06:58:50.169976Z",
     "iopub.status.idle": "2023-04-27T06:58:50.205260Z",
     "shell.execute_reply": "2023-04-27T06:58:50.203781Z"
    },
    "id": "7vOtm5rbdQ9K",
    "outputId": "9025db43-3ace-4c0a-b3ef-9a3f6cb70cc8",
    "papermill": {
     "duration": 0.057629,
     "end_time": "2023-04-27T06:58:50.208169",
     "exception": false,
     "start_time": "2023-04-27T06:58:50.150540",
     "status": "completed"
    },
    "tags": []
   },
   "outputs": [
    {
     "data": {
      "text/html": [
       "<div>\n",
       "<style scoped>\n",
       "    .dataframe tbody tr th:only-of-type {\n",
       "        vertical-align: middle;\n",
       "    }\n",
       "\n",
       "    .dataframe tbody tr th {\n",
       "        vertical-align: top;\n",
       "    }\n",
       "\n",
       "    .dataframe thead th {\n",
       "        text-align: right;\n",
       "    }\n",
       "</style>\n",
       "<table border=\"1\" class=\"dataframe\">\n",
       "  <thead>\n",
       "    <tr style=\"text-align: right;\">\n",
       "      <th></th>\n",
       "      <th></th>\n",
       "      <th>Sex</th>\n",
       "      <th>0</th>\n",
       "      <th>1</th>\n",
       "    </tr>\n",
       "    <tr>\n",
       "      <th>Embarked</th>\n",
       "      <th>Pclass</th>\n",
       "      <th>SibSp</th>\n",
       "      <th></th>\n",
       "      <th></th>\n",
       "    </tr>\n",
       "  </thead>\n",
       "  <tbody>\n",
       "    <tr>\n",
       "      <th rowspan=\"15\" valign=\"top\">0</th>\n",
       "      <th rowspan=\"4\" valign=\"top\">1</th>\n",
       "      <th>0</th>\n",
       "      <td>1.000000</td>\n",
       "      <td>0.321429</td>\n",
       "    </tr>\n",
       "    <tr>\n",
       "      <th>1</th>\n",
       "      <td>0.904762</td>\n",
       "      <td>0.428571</td>\n",
       "    </tr>\n",
       "    <tr>\n",
       "      <th>2</th>\n",
       "      <td>1.000000</td>\n",
       "      <td>1.000000</td>\n",
       "    </tr>\n",
       "    <tr>\n",
       "      <th>3</th>\n",
       "      <td>1.000000</td>\n",
       "      <td>0.000000</td>\n",
       "    </tr>\n",
       "    <tr>\n",
       "      <th rowspan=\"4\" valign=\"top\">2</th>\n",
       "      <th>0</th>\n",
       "      <td>0.925000</td>\n",
       "      <td>0.100000</td>\n",
       "    </tr>\n",
       "    <tr>\n",
       "      <th>1</th>\n",
       "      <td>0.869565</td>\n",
       "      <td>0.318182</td>\n",
       "    </tr>\n",
       "    <tr>\n",
       "      <th>2</th>\n",
       "      <td>1.000000</td>\n",
       "      <td>0.200000</td>\n",
       "    </tr>\n",
       "    <tr>\n",
       "      <th>3</th>\n",
       "      <td>1.000000</td>\n",
       "      <td>NaN</td>\n",
       "    </tr>\n",
       "    <tr>\n",
       "      <th rowspan=\"7\" valign=\"top\">3</th>\n",
       "      <th>0</th>\n",
       "      <td>0.487805</td>\n",
       "      <td>0.130435</td>\n",
       "    </tr>\n",
       "    <tr>\n",
       "      <th>1</th>\n",
       "      <td>0.384615</td>\n",
       "      <td>0.187500</td>\n",
       "    </tr>\n",
       "    <tr>\n",
       "      <th>2</th>\n",
       "      <td>0.000000</td>\n",
       "      <td>0.000000</td>\n",
       "    </tr>\n",
       "    <tr>\n",
       "      <th>3</th>\n",
       "      <td>0.125000</td>\n",
       "      <td>0.000000</td>\n",
       "    </tr>\n",
       "    <tr>\n",
       "      <th>4</th>\n",
       "      <td>0.333333</td>\n",
       "      <td>0.125000</td>\n",
       "    </tr>\n",
       "    <tr>\n",
       "      <th>5</th>\n",
       "      <td>0.000000</td>\n",
       "      <td>0.000000</td>\n",
       "    </tr>\n",
       "    <tr>\n",
       "      <th>8</th>\n",
       "      <td>0.000000</td>\n",
       "      <td>0.000000</td>\n",
       "    </tr>\n",
       "    <tr>\n",
       "      <th rowspan=\"8\" valign=\"top\">1</th>\n",
       "      <th rowspan=\"3\" valign=\"top\">1</th>\n",
       "      <th>0</th>\n",
       "      <td>0.956522</td>\n",
       "      <td>0.343750</td>\n",
       "    </tr>\n",
       "    <tr>\n",
       "      <th>1</th>\n",
       "      <td>1.000000</td>\n",
       "      <td>0.600000</td>\n",
       "    </tr>\n",
       "    <tr>\n",
       "      <th>2</th>\n",
       "      <td>1.000000</td>\n",
       "      <td>NaN</td>\n",
       "    </tr>\n",
       "    <tr>\n",
       "      <th rowspan=\"2\" valign=\"top\">2</th>\n",
       "      <th>0</th>\n",
       "      <td>1.000000</td>\n",
       "      <td>0.400000</td>\n",
       "    </tr>\n",
       "    <tr>\n",
       "      <th>1</th>\n",
       "      <td>1.000000</td>\n",
       "      <td>0.000000</td>\n",
       "    </tr>\n",
       "    <tr>\n",
       "      <th rowspan=\"3\" valign=\"top\">3</th>\n",
       "      <th>0</th>\n",
       "      <td>0.692308</td>\n",
       "      <td>0.176471</td>\n",
       "    </tr>\n",
       "    <tr>\n",
       "      <th>1</th>\n",
       "      <td>0.428571</td>\n",
       "      <td>0.500000</td>\n",
       "    </tr>\n",
       "    <tr>\n",
       "      <th>2</th>\n",
       "      <td>1.000000</td>\n",
       "      <td>0.000000</td>\n",
       "    </tr>\n",
       "    <tr>\n",
       "      <th rowspan=\"7\" valign=\"top\">2</th>\n",
       "      <th rowspan=\"2\" valign=\"top\">1</th>\n",
       "      <th>1</th>\n",
       "      <td>1.000000</td>\n",
       "      <td>NaN</td>\n",
       "    </tr>\n",
       "    <tr>\n",
       "      <th>2</th>\n",
       "      <td>NaN</td>\n",
       "      <td>0.000000</td>\n",
       "    </tr>\n",
       "    <tr>\n",
       "      <th>2</th>\n",
       "      <th>0</th>\n",
       "      <td>1.000000</td>\n",
       "      <td>0.000000</td>\n",
       "    </tr>\n",
       "    <tr>\n",
       "      <th rowspan=\"4\" valign=\"top\">3</th>\n",
       "      <th>0</th>\n",
       "      <td>0.703704</td>\n",
       "      <td>0.068966</td>\n",
       "    </tr>\n",
       "    <tr>\n",
       "      <th>1</th>\n",
       "      <td>0.800000</td>\n",
       "      <td>0.000000</td>\n",
       "    </tr>\n",
       "    <tr>\n",
       "      <th>2</th>\n",
       "      <td>1.000000</td>\n",
       "      <td>1.000000</td>\n",
       "    </tr>\n",
       "    <tr>\n",
       "      <th>4</th>\n",
       "      <td>NaN</td>\n",
       "      <td>0.000000</td>\n",
       "    </tr>\n",
       "    <tr>\n",
       "      <th>0</th>\n",
       "      <th>1</th>\n",
       "      <th>0</th>\n",
       "      <td>1.000000</td>\n",
       "      <td>NaN</td>\n",
       "    </tr>\n",
       "  </tbody>\n",
       "</table>\n",
       "</div>"
      ],
      "text/plain": [
       "Sex                           0         1\n",
       "Embarked Pclass SibSp                    \n",
       "0        1      0      1.000000  0.321429\n",
       "                1      0.904762  0.428571\n",
       "                2      1.000000  1.000000\n",
       "                3      1.000000  0.000000\n",
       "         2      0      0.925000  0.100000\n",
       "                1      0.869565  0.318182\n",
       "                2      1.000000  0.200000\n",
       "                3      1.000000       NaN\n",
       "         3      0      0.487805  0.130435\n",
       "                1      0.384615  0.187500\n",
       "                2      0.000000  0.000000\n",
       "                3      0.125000  0.000000\n",
       "                4      0.333333  0.125000\n",
       "                5      0.000000  0.000000\n",
       "                8      0.000000  0.000000\n",
       "1        1      0      0.956522  0.343750\n",
       "                1      1.000000  0.600000\n",
       "                2      1.000000       NaN\n",
       "         2      0      1.000000  0.400000\n",
       "                1      1.000000  0.000000\n",
       "         3      0      0.692308  0.176471\n",
       "                1      0.428571  0.500000\n",
       "                2      1.000000  0.000000\n",
       "2        1      1      1.000000       NaN\n",
       "                2           NaN  0.000000\n",
       "         2      0      1.000000  0.000000\n",
       "         3      0      0.703704  0.068966\n",
       "                1      0.800000  0.000000\n",
       "                2      1.000000  1.000000\n",
       "                4           NaN  0.000000\n",
       "0        1      0      1.000000       NaN"
      ]
     },
     "execution_count": 33,
     "metadata": {},
     "output_type": "execute_result"
    }
   ],
   "source": [
    "pivot =df.pivot_table(\"Survived\",index = [\"Embarked\",\"Pclass\",\"SibSp\"], columns = \"Sex\")\n",
    "pivot"
   ]
  },
  {
   "cell_type": "code",
   "execution_count": 34,
   "id": "0dfd8a29",
   "metadata": {
    "execution": {
     "iopub.execute_input": "2023-04-27T06:58:50.247237Z",
     "iopub.status.busy": "2023-04-27T06:58:50.246814Z",
     "iopub.status.idle": "2023-04-27T06:58:50.624549Z",
     "shell.execute_reply": "2023-04-27T06:58:50.623133Z"
    },
    "id": "-R_7YexpmLcN",
    "outputId": "3ef9ae65-e479-405d-f163-1ade1930de8c",
    "papermill": {
     "duration": 0.400553,
     "end_time": "2023-04-27T06:58:50.627551",
     "exception": false,
     "start_time": "2023-04-27T06:58:50.226998",
     "status": "completed"
    },
    "tags": []
   },
   "outputs": [
    {
     "data": {
      "text/plain": [
       "array([<AxesSubplot:ylabel='count'>], dtype=object)"
      ]
     },
     "execution_count": 34,
     "metadata": {},
     "output_type": "execute_result"
    },
    {
     "data": {
      "image/png": "[encoded data removed]",
      "text/plain": [
       "<Figure size 900x900 with 1 Axes>"
      ]
     },
     "metadata": {},
     "output_type": "display_data"
    }
   ],
   "source": [
    "df.groupby('Pclass')['Survived'].agg(['count']).sort_values(by='count',ascending=False).plot(kind='pie',autopct='%1.2f%%',subplots=True,title='Pclass',figsize=(9,9))\n"
   ]
  },
  {
   "cell_type": "code",
   "execution_count": 35,
   "id": "eaa54f0a",
   "metadata": {
    "execution": {
     "iopub.execute_input": "2023-04-27T06:58:50.668107Z",
     "iopub.status.busy": "2023-04-27T06:58:50.667212Z",
     "iopub.status.idle": "2023-04-27T06:58:52.025183Z",
     "shell.execute_reply": "2023-04-27T06:58:52.023562Z"
    },
    "id": "Ry1KxqSTVOZR",
    "outputId": "ed0863a6-cc73-4482-b215-bd050c5d7d35",
    "papermill": {
     "duration": 1.381274,
     "end_time": "2023-04-27T06:58:52.028060",
     "exception": false,
     "start_time": "2023-04-27T06:58:50.646786",
     "status": "completed"
    },
    "tags": []
   },
   "outputs": [
    {
     "data": {
      "text/plain": [
       "array([<AxesSubplot:ylabel='count'>], dtype=object)"
      ]
     },
     "execution_count": 35,
     "metadata": {},
     "output_type": "execute_result"
    },
    {
     "data": {
      "image/png": "[encoded data removed]",
      "text/plain": [
       "<Figure size 900x900 with 1 Axes>"
      ]
     },
     "metadata": {},
     "output_type": "display_data"
    },
    {
     "data": {
      "image/png": "[encoded data removed]",
      "text/plain": [
       "<Figure size 900x900 with 1 Axes>"
      ]
     },
     "metadata": {},
     "output_type": "display_data"
    },
    {
     "data": {
      "image/png": "[encoded data removed]",
      "text/plain": [
       "<Figure size 900x900 with 1 Axes>"
      ]
     },
     "metadata": {},
     "output_type": "display_data"
    },
    {
     "data": {
      "image/png": "[encoded data removed]",
      "text/plain": [
       "<Figure size 900x900 with 1 Axes>"
      ]
     },
     "metadata": {},
     "output_type": "display_data"
    }
   ],
   "source": [
    "df.groupby('Embarked')['Survived'].agg(['count']).sort_values(by='count',ascending=False).plot(kind='pie',autopct='%1.2f%%',subplots=True,title='Embarked',figsize=(9,9))\n",
    "df.groupby('SibSp')['Survived'].agg(['count']).sort_values(by='count',ascending=False).plot(kind='pie',autopct='%1.2f%%',subplots=True,title='SibSp',figsize=(9,9))\n",
    "df.groupby('Parch')['Survived'].agg(['count']).sort_values(by='count',ascending=False).plot(kind='pie',autopct='%1.2f%%',subplots=True,title='Parch',figsize=(9,9))\n",
    "df.groupby('Sex')['Survived'].agg(['count']).sort_values(by='count',ascending=False).plot(kind='pie',autopct='%1.2f%%',subplots=True,title='Sex',figsize=(9,9))\n",
    "\n"
   ]
  },
  {
   "cell_type": "markdown",
   "id": "be117ad4",
   "metadata": {
    "id": "BvOVWKR_WhL7",
    "papermill": {
     "duration": 0.022735,
     "end_time": "2023-04-27T06:58:52.073378",
     "exception": false,
     "start_time": "2023-04-27T06:58:52.050643",
     "status": "completed"
    },
    "tags": []
   },
   "source": [
    "CONCLUSION:\n",
    " * It seems that the more you are in a upper class, the more you are likely to survive.\n",
    " * Being a female gives a lot of chance to survive compare to male.\n",
    " * Being from Cherbourg is a factor a survival. Southampton decreases your chance of survival. This is surprising!\n",
    " * Pclass and Sex has a great correlation with the survival of people -> Keep them as features\n",
    " * SibSp & Parch require engineering.\n",
    " * Having a lot of family makes you less likely to survive. Let's engineer this feature later!"
   ]
  },
  {
   "cell_type": "markdown",
   "id": "913a38dc",
   "metadata": {
    "id": "w94V9X8qwi3L",
    "papermill": {
     "duration": 0.021676,
     "end_time": "2023-04-27T06:58:52.116995",
     "exception": false,
     "start_time": "2023-04-27T06:58:52.095319",
     "status": "completed"
    },
    "tags": []
   },
   "source": [
    "## correaltion\n"
   ]
  },
  {
   "cell_type": "code",
   "execution_count": 36,
   "id": "f36464f7",
   "metadata": {
    "execution": {
     "iopub.execute_input": "2023-04-27T06:58:52.162555Z",
     "iopub.status.busy": "2023-04-27T06:58:52.162103Z",
     "iopub.status.idle": "2023-04-27T06:58:52.179546Z",
     "shell.execute_reply": "2023-04-27T06:58:52.178273Z"
    },
    "id": "SJv8VDtxw7Lz",
    "outputId": "a54c1f97-1a33-4c45-bd61-2078deb7af26",
    "papermill": {
     "duration": 0.043615,
     "end_time": "2023-04-27T06:58:52.182358",
     "exception": false,
     "start_time": "2023-04-27T06:58:52.138743",
     "status": "completed"
    },
    "tags": []
   },
   "outputs": [
    {
     "data": {
      "text/html": [
       "<div>\n",
       "<style scoped>\n",
       "    .dataframe tbody tr th:only-of-type {\n",
       "        vertical-align: middle;\n",
       "    }\n",
       "\n",
       "    .dataframe tbody tr th {\n",
       "        vertical-align: top;\n",
       "    }\n",
       "\n",
       "    .dataframe thead th {\n",
       "        text-align: right;\n",
       "    }\n",
       "</style>\n",
       "<table border=\"1\" class=\"dataframe\">\n",
       "  <thead>\n",
       "    <tr style=\"text-align: right;\">\n",
       "      <th></th>\n",
       "      <th>Survived</th>\n",
       "      <th>Pclass</th>\n",
       "      <th>Sex</th>\n",
       "      <th>Age</th>\n",
       "      <th>SibSp</th>\n",
       "      <th>Parch</th>\n",
       "    </tr>\n",
       "  </thead>\n",
       "  <tbody>\n",
       "    <tr>\n",
       "      <th>Survived</th>\n",
       "      <td>1.000000</td>\n",
       "      <td>-0.338481</td>\n",
       "      <td>-0.543351</td>\n",
       "      <td>-0.064910</td>\n",
       "      <td>-0.035322</td>\n",
       "      <td>0.081629</td>\n",
       "    </tr>\n",
       "    <tr>\n",
       "      <th>Pclass</th>\n",
       "      <td>-0.338481</td>\n",
       "      <td>1.000000</td>\n",
       "      <td>0.131900</td>\n",
       "      <td>-0.339898</td>\n",
       "      <td>0.083081</td>\n",
       "      <td>0.018443</td>\n",
       "    </tr>\n",
       "    <tr>\n",
       "      <th>Sex</th>\n",
       "      <td>-0.543351</td>\n",
       "      <td>0.131900</td>\n",
       "      <td>1.000000</td>\n",
       "      <td>0.081163</td>\n",
       "      <td>-0.114631</td>\n",
       "      <td>-0.245489</td>\n",
       "    </tr>\n",
       "    <tr>\n",
       "      <th>Age</th>\n",
       "      <td>-0.064910</td>\n",
       "      <td>-0.339898</td>\n",
       "      <td>0.081163</td>\n",
       "      <td>1.000000</td>\n",
       "      <td>-0.233296</td>\n",
       "      <td>-0.172482</td>\n",
       "    </tr>\n",
       "    <tr>\n",
       "      <th>SibSp</th>\n",
       "      <td>-0.035322</td>\n",
       "      <td>0.083081</td>\n",
       "      <td>-0.114631</td>\n",
       "      <td>-0.233296</td>\n",
       "      <td>1.000000</td>\n",
       "      <td>0.414838</td>\n",
       "    </tr>\n",
       "    <tr>\n",
       "      <th>Parch</th>\n",
       "      <td>0.081629</td>\n",
       "      <td>0.018443</td>\n",
       "      <td>-0.245489</td>\n",
       "      <td>-0.172482</td>\n",
       "      <td>0.414838</td>\n",
       "      <td>1.000000</td>\n",
       "    </tr>\n",
       "  </tbody>\n",
       "</table>\n",
       "</div>"
      ],
      "text/plain": [
       "          Survived    Pclass       Sex       Age     SibSp     Parch\n",
       "Survived  1.000000 -0.338481 -0.543351 -0.064910 -0.035322  0.081629\n",
       "Pclass   -0.338481  1.000000  0.131900 -0.339898  0.083081  0.018443\n",
       "Sex      -0.543351  0.131900  1.000000  0.081163 -0.114631 -0.245489\n",
       "Age      -0.064910 -0.339898  0.081163  1.000000 -0.233296 -0.172482\n",
       "SibSp    -0.035322  0.083081 -0.114631 -0.233296  1.000000  0.414838\n",
       "Parch     0.081629  0.018443 -0.245489 -0.172482  0.414838  1.000000"
      ]
     },
     "execution_count": 36,
     "metadata": {},
     "output_type": "execute_result"
    }
   ],
   "source": [
    "df.corr()\n"
   ]
  },
  {
   "cell_type": "code",
   "execution_count": 37,
   "id": "13265629",
   "metadata": {
    "execution": {
     "iopub.execute_input": "2023-04-27T06:58:52.229288Z",
     "iopub.status.busy": "2023-04-27T06:58:52.228003Z",
     "iopub.status.idle": "2023-04-27T06:58:52.543033Z",
     "shell.execute_reply": "2023-04-27T06:58:52.541764Z"
    },
    "id": "isD8czOZwolj",
    "outputId": "58f91a8b-28ae-43ae-8c69-e254cc1632ed",
    "papermill": {
     "duration": 0.341679,
     "end_time": "2023-04-27T06:58:52.546045",
     "exception": false,
     "start_time": "2023-04-27T06:58:52.204366",
     "status": "completed"
    },
    "tags": []
   },
   "outputs": [
    {
     "data": {
      "text/plain": [
       "<AxesSubplot:>"
      ]
     },
     "execution_count": 37,
     "metadata": {},
     "output_type": "execute_result"
    },
    {
     "data": {
      "image/png": "[encoded data removed]",
      "text/plain": [
       "<Figure size 640x480 with 2 Axes>"
      ]
     },
     "metadata": {},
     "output_type": "display_data"
    }
   ],
   "source": [
    "sns.heatmap(df.corr())"
   ]
  },
  {
   "cell_type": "code",
   "execution_count": 38,
   "id": "9183d558",
   "metadata": {
    "execution": {
     "iopub.execute_input": "2023-04-27T06:58:52.594181Z",
     "iopub.status.busy": "2023-04-27T06:58:52.593734Z",
     "iopub.status.idle": "2023-04-27T06:58:52.911229Z",
     "shell.execute_reply": "2023-04-27T06:58:52.909711Z"
    },
    "id": "NcoqOAIfw6Af",
    "papermill": {
     "duration": 0.34565,
     "end_time": "2023-04-27T06:58:52.914246",
     "exception": false,
     "start_time": "2023-04-27T06:58:52.568596",
     "status": "completed"
    },
    "tags": []
   },
   "outputs": [],
   "source": [
    "from sklearn.preprocessing import StandardScaler\n",
    "from sklearn.model_selection import train_test_split\n",
    "from sklearn import svm\n",
    "from sklearn.metrics import accuracy_score"
   ]
  },
  {
   "cell_type": "code",
   "execution_count": 39,
   "id": "25e86b6b",
   "metadata": {
    "execution": {
     "iopub.execute_input": "2023-04-27T06:58:52.963015Z",
     "iopub.status.busy": "2023-04-27T06:58:52.962608Z",
     "iopub.status.idle": "2023-04-27T06:58:52.978470Z",
     "shell.execute_reply": "2023-04-27T06:58:52.977131Z"
    },
    "papermill": {
     "duration": 0.042877,
     "end_time": "2023-04-27T06:58:52.980947",
     "exception": false,
     "start_time": "2023-04-27T06:58:52.938070",
     "status": "completed"
    },
    "tags": []
   },
   "outputs": [
    {
     "data": {
      "text/html": [
       "<div>\n",
       "<style scoped>\n",
       "    .dataframe tbody tr th:only-of-type {\n",
       "        vertical-align: middle;\n",
       "    }\n",
       "\n",
       "    .dataframe tbody tr th {\n",
       "        vertical-align: top;\n",
       "    }\n",
       "\n",
       "    .dataframe thead th {\n",
       "        text-align: right;\n",
       "    }\n",
       "</style>\n",
       "<table border=\"1\" class=\"dataframe\">\n",
       "  <thead>\n",
       "    <tr style=\"text-align: right;\">\n",
       "      <th></th>\n",
       "      <th>Sex</th>\n",
       "      <th>SibSp</th>\n",
       "      <th>Parch</th>\n",
       "      <th>Pclass</th>\n",
       "    </tr>\n",
       "  </thead>\n",
       "  <tbody>\n",
       "    <tr>\n",
       "      <th>0</th>\n",
       "      <td>1</td>\n",
       "      <td>1</td>\n",
       "      <td>0</td>\n",
       "      <td>3</td>\n",
       "    </tr>\n",
       "    <tr>\n",
       "      <th>1</th>\n",
       "      <td>0</td>\n",
       "      <td>1</td>\n",
       "      <td>0</td>\n",
       "      <td>1</td>\n",
       "    </tr>\n",
       "    <tr>\n",
       "      <th>2</th>\n",
       "      <td>0</td>\n",
       "      <td>0</td>\n",
       "      <td>0</td>\n",
       "      <td>3</td>\n",
       "    </tr>\n",
       "    <tr>\n",
       "      <th>3</th>\n",
       "      <td>0</td>\n",
       "      <td>1</td>\n",
       "      <td>0</td>\n",
       "      <td>1</td>\n",
       "    </tr>\n",
       "    <tr>\n",
       "      <th>4</th>\n",
       "      <td>1</td>\n",
       "      <td>0</td>\n",
       "      <td>0</td>\n",
       "      <td>3</td>\n",
       "    </tr>\n",
       "  </tbody>\n",
       "</table>\n",
       "</div>"
      ],
      "text/plain": [
       "   Sex  SibSp  Parch  Pclass\n",
       "0    1      1      0       3\n",
       "1    0      1      0       1\n",
       "2    0      0      0       3\n",
       "3    0      1      0       1\n",
       "4    1      0      0       3"
      ]
     },
     "execution_count": 39,
     "metadata": {},
     "output_type": "execute_result"
    }
   ],
   "source": [
    "X = pd.get_dummies(df[['Sex', 'SibSp', 'Parch', 'Pclass']])\n",
    "y = df['Survived']\n",
    "\n",
    "X.head(5)"
   ]
  },
  {
   "cell_type": "code",
   "execution_count": 40,
   "id": "4effecfd",
   "metadata": {
    "execution": {
     "iopub.execute_input": "2023-04-27T06:58:53.029245Z",
     "iopub.status.busy": "2023-04-27T06:58:53.028792Z",
     "iopub.status.idle": "2023-04-27T06:58:53.038635Z",
     "shell.execute_reply": "2023-04-27T06:58:53.037097Z"
    },
    "id": "AHTHTVhSxAGA",
    "papermill": {
     "duration": 0.037385,
     "end_time": "2023-04-27T06:58:53.041389",
     "exception": false,
     "start_time": "2023-04-27T06:58:53.004004",
     "status": "completed"
    },
    "tags": []
   },
   "outputs": [],
   "source": [
    "X_train, X_test, y_train, y_test = train_test_split(X, y, test_size=0.3, random_state=42)"
   ]
  },
  {
   "cell_type": "code",
   "execution_count": 41,
   "id": "7e4446ea",
   "metadata": {
    "execution": {
     "iopub.execute_input": "2023-04-27T06:58:53.089185Z",
     "iopub.status.busy": "2023-04-27T06:58:53.088248Z",
     "iopub.status.idle": "2023-04-27T06:58:53.095265Z",
     "shell.execute_reply": "2023-04-27T06:58:53.093910Z"
    },
    "id": "OmfR0d4ixC6r",
    "outputId": "8f175963-12ca-4973-ffff-d13c315ecfb6",
    "papermill": {
     "duration": 0.03365,
     "end_time": "2023-04-27T06:58:53.097776",
     "exception": false,
     "start_time": "2023-04-27T06:58:53.064126",
     "status": "completed"
    },
    "tags": []
   },
   "outputs": [
    {
     "name": "stdout",
     "output_type": "stream",
     "text": [
      "(623, 4) (268, 4)\n"
     ]
    }
   ],
   "source": [
    "print( X_train.shape, X_test.shape)"
   ]
  },
  {
   "cell_type": "code",
   "execution_count": 42,
   "id": "afd9bdb4",
   "metadata": {
    "execution": {
     "iopub.execute_input": "2023-04-27T06:58:53.146016Z",
     "iopub.status.busy": "2023-04-27T06:58:53.145556Z",
     "iopub.status.idle": "2023-04-27T06:58:53.156968Z",
     "shell.execute_reply": "2023-04-27T06:58:53.155666Z"
    },
    "id": "i9O9eV7iNkXK",
    "outputId": "8c36913e-d3c7-403e-a736-c38bd6ebe282",
    "papermill": {
     "duration": 0.039033,
     "end_time": "2023-04-27T06:58:53.159540",
     "exception": false,
     "start_time": "2023-04-27T06:58:53.120507",
     "status": "completed"
    },
    "tags": []
   },
   "outputs": [
    {
     "data": {
      "text/plain": [
       "array([[1.],\n",
       "       [1.],\n",
       "       [0.]])"
      ]
     },
     "execution_count": 42,
     "metadata": {},
     "output_type": "execute_result"
    }
   ],
   "source": [
    "from numpy import asarray\n",
    "from sklearn.preprocessing import OrdinalEncoder\n",
    "\n",
    "X = np.reshape(['male', 'male', 'female'], (-1, 1))\n",
    "\n",
    "OrdinalEncoder().fit_transform(X)"
   ]
  },
  {
   "cell_type": "code",
   "execution_count": 43,
   "id": "a1dc0f0a",
   "metadata": {
    "execution": {
     "iopub.execute_input": "2023-04-27T06:58:53.208823Z",
     "iopub.status.busy": "2023-04-27T06:58:53.208360Z",
     "iopub.status.idle": "2023-04-27T06:58:53.213815Z",
     "shell.execute_reply": "2023-04-27T06:58:53.212735Z"
    },
    "id": "xEVa9XL1NAvK",
    "papermill": {
     "duration": 0.032604,
     "end_time": "2023-04-27T06:58:53.216171",
     "exception": false,
     "start_time": "2023-04-27T06:58:53.183567",
     "status": "completed"
    },
    "tags": []
   },
   "outputs": [],
   "source": [
    "classifier = svm.SVC(kernel='linear')"
   ]
  },
  {
   "cell_type": "code",
   "execution_count": 44,
   "id": "0dfce917",
   "metadata": {
    "execution": {
     "iopub.execute_input": "2023-04-27T06:58:53.265213Z",
     "iopub.status.busy": "2023-04-27T06:58:53.264348Z",
     "iopub.status.idle": "2023-04-27T06:58:53.289973Z",
     "shell.execute_reply": "2023-04-27T06:58:53.288602Z"
    },
    "id": "_4YPY78YNVa1",
    "outputId": "3e307bcb-85e9-4ca9-b0d0-c18aafc84c15",
    "papermill": {
     "duration": 0.053502,
     "end_time": "2023-04-27T06:58:53.292744",
     "exception": false,
     "start_time": "2023-04-27T06:58:53.239242",
     "status": "completed"
    },
    "tags": []
   },
   "outputs": [
    {
     "data": {
      "text/plain": [
       "SVC(kernel='linear')"
      ]
     },
     "execution_count": 44,
     "metadata": {},
     "output_type": "execute_result"
    }
   ],
   "source": [
    "classifier.fit(X_train, y_train)"
   ]
  },
  {
   "cell_type": "code",
   "execution_count": 45,
   "id": "8c76a9ca",
   "metadata": {
    "execution": {
     "iopub.execute_input": "2023-04-27T06:58:53.341942Z",
     "iopub.status.busy": "2023-04-27T06:58:53.341451Z",
     "iopub.status.idle": "2023-04-27T06:58:53.354521Z",
     "shell.execute_reply": "2023-04-27T06:58:53.353488Z"
    },
    "id": "Nypw9GhNOIjb",
    "papermill": {
     "duration": 0.041057,
     "end_time": "2023-04-27T06:58:53.357283",
     "exception": false,
     "start_time": "2023-04-27T06:58:53.316226",
     "status": "completed"
    },
    "tags": []
   },
   "outputs": [],
   "source": [
    "X_train_prediction = classifier.predict(X_train)\n",
    "training_data_accuracy = accuracy_score(X_train_prediction, y_train)"
   ]
  },
  {
   "cell_type": "code",
   "execution_count": 46,
   "id": "654bb11e",
   "metadata": {
    "execution": {
     "iopub.execute_input": "2023-04-27T06:58:53.406687Z",
     "iopub.status.busy": "2023-04-27T06:58:53.406192Z",
     "iopub.status.idle": "2023-04-27T06:58:53.411841Z",
     "shell.execute_reply": "2023-04-27T06:58:53.410781Z"
    },
    "id": "UgT1O0obRwbi",
    "outputId": "72ed2d37-61d4-4a48-fe9b-acf822d1fd37",
    "papermill": {
     "duration": 0.033441,
     "end_time": "2023-04-27T06:58:53.414604",
     "exception": false,
     "start_time": "2023-04-27T06:58:53.381163",
     "status": "completed"
    },
    "tags": []
   },
   "outputs": [
    {
     "name": "stdout",
     "output_type": "stream",
     "text": [
      "Accuracy score of the training data :  0.7849117174959872\n"
     ]
    }
   ],
   "source": [
    "print('Accuracy score of the training data : ', training_data_accuracy)"
   ]
  },
  {
   "cell_type": "code",
   "execution_count": 47,
   "id": "e484f59a",
   "metadata": {
    "execution": {
     "iopub.execute_input": "2023-04-27T06:58:53.463813Z",
     "iopub.status.busy": "2023-04-27T06:58:53.463342Z",
     "iopub.status.idle": "2023-04-27T06:58:53.474269Z",
     "shell.execute_reply": "2023-04-27T06:58:53.472403Z"
    },
    "id": "quCMVtqKR4HK",
    "papermill": {
     "duration": 0.039142,
     "end_time": "2023-04-27T06:58:53.477593",
     "exception": false,
     "start_time": "2023-04-27T06:58:53.438451",
     "status": "completed"
    },
    "tags": []
   },
   "outputs": [],
   "source": [
    "X_test_prediction = classifier.predict(X_test)\n",
    "test_data_accuracy = accuracy_score(X_test_prediction, y_test)"
   ]
  },
  {
   "cell_type": "code",
   "execution_count": 48,
   "id": "a8a240f5",
   "metadata": {
    "execution": {
     "iopub.execute_input": "2023-04-27T06:58:53.526457Z",
     "iopub.status.busy": "2023-04-27T06:58:53.525614Z",
     "iopub.status.idle": "2023-04-27T06:58:53.532844Z",
     "shell.execute_reply": "2023-04-27T06:58:53.531144Z"
    },
    "id": "FC_J9zckR9QY",
    "outputId": "3cfbc486-834c-4342-9966-eab70da3753d",
    "papermill": {
     "duration": 0.034801,
     "end_time": "2023-04-27T06:58:53.535535",
     "exception": false,
     "start_time": "2023-04-27T06:58:53.500734",
     "status": "completed"
    },
    "tags": []
   },
   "outputs": [
    {
     "name": "stdout",
     "output_type": "stream",
     "text": [
      "Accuracy score of the test data :  0.7910447761194029\n"
     ]
    }
   ],
   "source": [
    "print('Accuracy score of the test data : ', test_data_accuracy)"
   ]
  },
  {
   "cell_type": "code",
   "execution_count": 49,
   "id": "3a782372",
   "metadata": {
    "execution": {
     "iopub.execute_input": "2023-04-27T06:58:53.584040Z",
     "iopub.status.busy": "2023-04-27T06:58:53.583161Z",
     "iopub.status.idle": "2023-04-27T06:58:53.869623Z",
     "shell.execute_reply": "2023-04-27T06:58:53.868126Z"
    },
    "id": "ILEVDBWgSCaM",
    "papermill": {
     "duration": 0.313923,
     "end_time": "2023-04-27T06:58:53.872510",
     "exception": false,
     "start_time": "2023-04-27T06:58:53.558587",
     "status": "completed"
    },
    "tags": []
   },
   "outputs": [],
   "source": [
    "from sklearn.ensemble import RandomForestRegressor\n",
    "from sklearn.metrics import mean_squared_error\n",
    "from sklearn.metrics import explained_variance_score, mean_squared_error, r2_score\n",
    "\n",
    "rfr = RandomForestRegressor()"
   ]
  },
  {
   "cell_type": "code",
   "execution_count": 50,
   "id": "d7f4d205",
   "metadata": {
    "execution": {
     "iopub.execute_input": "2023-04-27T06:58:53.921635Z",
     "iopub.status.busy": "2023-04-27T06:58:53.921176Z",
     "iopub.status.idle": "2023-04-27T06:58:54.097100Z",
     "shell.execute_reply": "2023-04-27T06:58:54.095769Z"
    },
    "id": "2wPUhASmSHv2",
    "papermill": {
     "duration": 0.204278,
     "end_time": "2023-04-27T06:58:54.100189",
     "exception": false,
     "start_time": "2023-04-27T06:58:53.895911",
     "status": "completed"
    },
    "tags": []
   },
   "outputs": [],
   "source": [
    "rfr.fit(X_train,y_train)\n",
    "y_pred =  rfr.predict(X_test)\n",
    "y_pred_train = rfr.predict(X_train)"
   ]
  },
  {
   "cell_type": "code",
   "execution_count": 51,
   "id": "7d554de4",
   "metadata": {
    "execution": {
     "iopub.execute_input": "2023-04-27T06:58:54.150608Z",
     "iopub.status.busy": "2023-04-27T06:58:54.150019Z",
     "iopub.status.idle": "2023-04-27T06:58:54.160624Z",
     "shell.execute_reply": "2023-04-27T06:58:54.159406Z"
    },
    "id": "hStLSFjHSMVJ",
    "outputId": "9c96fa1c-af38-47d5-e584-0adea7a3ab09",
    "papermill": {
     "duration": 0.038488,
     "end_time": "2023-04-27T06:58:54.163380",
     "exception": false,
     "start_time": "2023-04-27T06:58:54.124892",
     "status": "completed"
    },
    "tags": []
   },
   "outputs": [
    {
     "data": {
      "text/plain": [
       "array([0.39621568, 0.10851655, 0.13167357, 1.        , 0.44688269,\n",
       "       0.96544684, 0.54056312, 0.1556538 , 0.54056312, 0.95107143,\n",
       "       0.39540774, 0.13167357, 0.03      , 0.13167357, 0.10851655,\n",
       "       1.        , 0.39540774, 0.54056312, 0.10851655, 0.283936  ,\n",
       "       0.13167357, 0.283936  , 0.44688269, 0.13167357, 0.13167357,\n",
       "       0.32242857, 0.283936  , 0.10851655, 0.32242857, 0.54056312,\n",
       "       0.13167357, 0.54056312, 0.283936  , 0.54056312, 0.13167357,\n",
       "       0.16808491, 0.283936  , 0.54056312, 0.96544684, 0.13167357,\n",
       "       0.02470028, 0.16808491, 0.13167357, 0.13167357, 0.71084812,\n",
       "       0.34200794, 0.13167357, 0.13167357, 0.13167357, 0.83119048,\n",
       "       0.92466667, 1.        , 0.12516667, 0.51094048, 0.13167357,\n",
       "       0.95107143, 0.10851655, 1.        , 1.        , 0.54056312,\n",
       "       0.13167357, 1.        , 0.82177417, 0.283936  , 0.13167357,\n",
       "       1.        , 0.10851655, 0.13167357, 0.39621568, 1.        ,\n",
       "       0.99555556, 0.56270238, 0.283936  , 1.        , 0.13167357,\n",
       "       0.16808491, 0.54056312, 0.95107143, 1.        , 0.62163868,\n",
       "       0.        , 1.        , 1.        , 0.13167357, 0.283936  ,\n",
       "       0.283936  , 1.        , 0.96544684, 0.283936  , 0.13167357,\n",
       "       0.22030952, 0.57830159, 0.283936  , 0.13167357, 0.13167357,\n",
       "       0.13167357, 0.39540774, 0.13167357, 1.        , 0.13167357,\n",
       "       0.283936  , 0.13167357, 1.        , 0.13167357, 0.13167357,\n",
       "       0.16808491, 0.99555556, 0.283936  , 0.13167357, 0.283936  ,\n",
       "       1.        , 0.13167357, 1.        , 0.283936  , 0.283936  ,\n",
       "       0.13167357, 0.283936  , 0.10851655, 0.99555556, 0.29503571,\n",
       "       0.81149717, 0.96544684, 1.        , 0.71      , 0.13167357,\n",
       "       0.283936  , 0.96544684, 0.283936  , 0.44688269, 0.13167357,\n",
       "       0.54056312, 0.39621568, 0.10851655, 0.54056312, 0.39540774,\n",
       "       0.44688269, 0.96544684, 0.13167357, 0.13167357, 0.44688269,\n",
       "       0.13167357, 0.82177417, 0.10851655, 0.0718012 , 0.04416667,\n",
       "       0.99555556, 0.10851655, 0.10851655, 1.        , 0.13167357,\n",
       "       0.13167357, 0.13167357, 0.13167357, 0.44688269, 0.13167357,\n",
       "       0.13167357, 0.13167357, 0.54056312, 0.82177417, 0.60109099,\n",
       "       0.13167357, 0.283936  , 0.10851655, 1.        , 0.13167357,\n",
       "       0.22259146, 0.10851655, 1.        , 0.13167357, 0.13167357,\n",
       "       0.22259146, 1.        , 0.283936  , 0.60109099, 0.13167357,\n",
       "       0.13167357, 0.        , 1.        , 0.60109099, 0.283936  ,\n",
       "       0.10851655, 0.13167357, 0.16808491, 0.57830159, 0.22259146,\n",
       "       0.283936  , 0.0718012 , 0.13167357, 0.283936  , 1.        ,\n",
       "       0.39621568, 0.10851655, 0.16808491, 0.13167357, 1.        ,\n",
       "       1.        , 0.96544684, 0.10851655, 1.        , 0.57830159,\n",
       "       0.13167357, 0.54056312, 1.        , 0.54056312, 0.13167357,\n",
       "       0.62163868, 0.13167357, 0.51094048, 0.13167357, 0.13167357,\n",
       "       0.83119048, 0.13167357, 1.        , 0.13167357, 0.03      ,\n",
       "       0.13406061, 0.99555556, 0.22259146, 1.        , 0.13167357,\n",
       "       0.13167357, 1.        , 0.39621568, 0.283936  , 0.13167357,\n",
       "       1.        , 0.13167357, 0.51094048, 0.82177417, 0.54056312,\n",
       "       0.0718012 , 0.56270238, 0.13167357, 0.54056312, 0.13167357,\n",
       "       0.54056312, 0.96544684, 0.54056312, 0.96544684, 0.10851655,\n",
       "       0.13167357, 0.82177417, 0.13167357, 0.54056312, 0.13167357,\n",
       "       0.13167357, 0.13167357, 0.13167357, 0.13167357, 0.283936  ,\n",
       "       0.54056312, 0.71      , 0.13167357, 0.13167357, 0.15602812,\n",
       "       0.13167357, 0.13167357, 1.        , 0.10851655, 0.82177417,\n",
       "       0.96544684, 0.39540774, 1.        , 0.13167357, 0.283936  ,\n",
       "       0.283936  , 0.13167357, 0.283936  ])"
      ]
     },
     "execution_count": 51,
     "metadata": {},
     "output_type": "execute_result"
    }
   ],
   "source": [
    "y_pred"
   ]
  },
  {
   "cell_type": "code",
   "execution_count": 52,
   "id": "89189c8c",
   "metadata": {
    "execution": {
     "iopub.execute_input": "2023-04-27T06:58:54.212517Z",
     "iopub.status.busy": "2023-04-27T06:58:54.212046Z",
     "iopub.status.idle": "2023-04-27T06:58:54.236281Z",
     "shell.execute_reply": "2023-04-27T06:58:54.234837Z"
    },
    "id": "1xxfGaYJSQkT",
    "outputId": "12195e92-acef-4013-a5fb-60e96a35df7f",
    "papermill": {
     "duration": 0.052252,
     "end_time": "2023-04-27T06:58:54.239070",
     "exception": false,
     "start_time": "2023-04-27T06:58:54.186818",
     "status": "completed"
    },
    "tags": []
   },
   "outputs": [
    {
     "data": {
      "text/plain": [
       "0.4712309687675428"
      ]
     },
     "execution_count": 52,
     "metadata": {},
     "output_type": "execute_result"
    }
   ],
   "source": [
    "score = rfr.score(X_train,y_train)\n",
    "score"
   ]
  },
  {
   "cell_type": "code",
   "execution_count": 53,
   "id": "2c25f6b1",
   "metadata": {
    "execution": {
     "iopub.execute_input": "2023-04-27T06:58:54.288195Z",
     "iopub.status.busy": "2023-04-27T06:58:54.287749Z",
     "iopub.status.idle": "2023-04-27T06:58:54.310846Z",
     "shell.execute_reply": "2023-04-27T06:58:54.309839Z"
    },
    "id": "4E9JMjiWSU1C",
    "outputId": "0e3a9c58-88c1-46db-9523-4f93ba15c0aa",
    "papermill": {
     "duration": 0.050742,
     "end_time": "2023-04-27T06:58:54.313264",
     "exception": false,
     "start_time": "2023-04-27T06:58:54.262522",
     "status": "completed"
    },
    "tags": []
   },
   "outputs": [
    {
     "data": {
      "text/plain": [
       "0.3868297997397485"
      ]
     },
     "execution_count": 53,
     "metadata": {},
     "output_type": "execute_result"
    }
   ],
   "source": [
    "y_pred5 = rfr.predict(X_test)\n",
    "rscore=r2_score(y_test, y_pred)\n",
    "rscore"
   ]
  },
  {
   "cell_type": "code",
   "execution_count": 54,
   "id": "e4ded5c5",
   "metadata": {
    "execution": {
     "iopub.execute_input": "2023-04-27T06:58:54.362696Z",
     "iopub.status.busy": "2023-04-27T06:58:54.361941Z",
     "iopub.status.idle": "2023-04-27T06:58:54.371139Z",
     "shell.execute_reply": "2023-04-27T06:58:54.369686Z"
    },
    "id": "t_9x6ZbwSa6d",
    "outputId": "168046bf-265b-46fb-eb84-38d95208df09",
    "papermill": {
     "duration": 0.036765,
     "end_time": "2023-04-27T06:58:54.373611",
     "exception": false,
     "start_time": "2023-04-27T06:58:54.336846",
     "status": "completed"
    },
    "tags": []
   },
   "outputs": [
    {
     "name": "stdout",
     "output_type": "stream",
     "text": [
      "Explained variance score: 0.39\n",
      "Mean squared error: 0.15\n",
      "Variance score: 0.39\n"
     ]
    }
   ],
   "source": [
    "print('Explained variance score: %.2f' % explained_variance_score(y_test, y_pred))\n",
    "print('Mean squared error: %.2f' % mean_squared_error(y_test, y_pred))\n",
    "print('Variance score: %.2f' % r2_score(y_test, y_pred))"
   ]
  },
  {
   "cell_type": "code",
   "execution_count": 55,
   "id": "7f36857f",
   "metadata": {
    "execution": {
     "iopub.execute_input": "2023-04-27T06:58:54.422773Z",
     "iopub.status.busy": "2023-04-27T06:58:54.422298Z",
     "iopub.status.idle": "2023-04-27T06:58:54.461070Z",
     "shell.execute_reply": "2023-04-27T06:58:54.459825Z"
    },
    "papermill": {
     "duration": 0.066548,
     "end_time": "2023-04-27T06:58:54.463816",
     "exception": false,
     "start_time": "2023-04-27T06:58:54.397268",
     "status": "completed"
    },
    "tags": []
   },
   "outputs": [
    {
     "data": {
      "text/html": [
       "<div>\n",
       "<style scoped>\n",
       "    .dataframe tbody tr th:only-of-type {\n",
       "        vertical-align: middle;\n",
       "    }\n",
       "\n",
       "    .dataframe tbody tr th {\n",
       "        vertical-align: top;\n",
       "    }\n",
       "\n",
       "    .dataframe thead th {\n",
       "        text-align: right;\n",
       "    }\n",
       "</style>\n",
       "<table border=\"1\" class=\"dataframe\">\n",
       "  <thead>\n",
       "    <tr style=\"text-align: right;\">\n",
       "      <th></th>\n",
       "      <th>PassengerId</th>\n",
       "      <th>Survived</th>\n",
       "    </tr>\n",
       "  </thead>\n",
       "  <tbody>\n",
       "    <tr>\n",
       "      <th>0</th>\n",
       "      <td>892</td>\n",
       "      <td>0</td>\n",
       "    </tr>\n",
       "    <tr>\n",
       "      <th>1</th>\n",
       "      <td>893</td>\n",
       "      <td>1</td>\n",
       "    </tr>\n",
       "    <tr>\n",
       "      <th>2</th>\n",
       "      <td>894</td>\n",
       "      <td>0</td>\n",
       "    </tr>\n",
       "    <tr>\n",
       "      <th>3</th>\n",
       "      <td>895</td>\n",
       "      <td>0</td>\n",
       "    </tr>\n",
       "    <tr>\n",
       "      <th>4</th>\n",
       "      <td>896</td>\n",
       "      <td>1</td>\n",
       "    </tr>\n",
       "    <tr>\n",
       "      <th>5</th>\n",
       "      <td>897</td>\n",
       "      <td>0</td>\n",
       "    </tr>\n",
       "    <tr>\n",
       "      <th>6</th>\n",
       "      <td>898</td>\n",
       "      <td>1</td>\n",
       "    </tr>\n",
       "    <tr>\n",
       "      <th>7</th>\n",
       "      <td>899</td>\n",
       "      <td>0</td>\n",
       "    </tr>\n",
       "    <tr>\n",
       "      <th>8</th>\n",
       "      <td>900</td>\n",
       "      <td>1</td>\n",
       "    </tr>\n",
       "    <tr>\n",
       "      <th>9</th>\n",
       "      <td>901</td>\n",
       "      <td>0</td>\n",
       "    </tr>\n",
       "  </tbody>\n",
       "</table>\n",
       "</div>"
      ],
      "text/plain": [
       "   PassengerId  Survived\n",
       "0          892         0\n",
       "1          893         1\n",
       "2          894         0\n",
       "3          895         0\n",
       "4          896         1\n",
       "5          897         0\n",
       "6          898         1\n",
       "7          899         0\n",
       "8          900         1\n",
       "9          901         0"
      ]
     },
     "execution_count": 55,
     "metadata": {},
     "output_type": "execute_result"
    }
   ],
   "source": [
    "test_df = pd.read_csv('/kaggle/input/titanic/test.csv')\n",
    "test_df.Sex=test_df.Sex.map({'female':0,'male':1})\n",
    "\n",
    "X_test = pd.get_dummies(test_df[['Sex', 'SibSp', 'Parch', 'Pclass']])\n",
    "\n",
    "\n",
    "model = classifier.fit(X_train,y_train)\n",
    "preds = model.predict(X_test)\n",
    "\n",
    "results = pd.DataFrame({\n",
    "    'PassengerId': test_df['PassengerId'], \n",
    "    'Survived': preds\n",
    "})\n",
    "\n",
    "results.head(10)"
   ]
  },
  {
   "cell_type": "code",
   "execution_count": 56,
   "id": "a780047b",
   "metadata": {
    "execution": {
     "iopub.execute_input": "2023-04-27T06:58:54.513449Z",
     "iopub.status.busy": "2023-04-27T06:58:54.512969Z",
     "iopub.status.idle": "2023-04-27T06:58:54.524732Z",
     "shell.execute_reply": "2023-04-27T06:58:54.523267Z"
    },
    "papermill": {
     "duration": 0.039662,
     "end_time": "2023-04-27T06:58:54.527346",
     "exception": false,
     "start_time": "2023-04-27T06:58:54.487684",
     "status": "completed"
    },
    "tags": []
   },
   "outputs": [
    {
     "name": "stdout",
     "output_type": "stream",
     "text": [
      "Successfully Created!\n"
     ]
    }
   ],
   "source": [
    "results.to_csv('submission.csv', index=False)\n",
    "print(\"Successfully Created!\")"
   ]
  },
  {
   "cell_type": "markdown",
   "id": "1236893e",
   "metadata": {
    "id": "GMlajUabYdim",
    "papermill": {
     "duration": 0.023728,
     "end_time": "2023-04-27T06:58:54.575762",
     "exception": false,
     "start_time": "2023-04-27T06:58:54.552034",
     "status": "completed"
    },
    "tags": []
   },
   "source": [
    " completed"
   ]
  }
 ],
 "metadata": {
  "kernelspec": {
   "display_name": "Python 3",
   "language": "python",
   "name": "python3"
  },
  "language_info": {
   "codemirror_mode": {
    "name": "ipython",
    "version": 3
   },
   "file_extension": ".py",
   "mimetype": "text/x-python",
   "name": "python",
   "nbconvert_exporter": "python",
   "pygments_lexer": "ipython3",
   "version": "3.7.12"
  },
  "papermill": {
   "default_parameters": {},
   "duration": 18.603712,
   "end_time": "2023-04-27T06:58:55.423285",
   "environment_variables": {},
   "exception": null,
   "input_path": "__notebook__.ipynb",
   "output_path": "__notebook__.ipynb",
   "parameters": {},
   "start_time": "2023-04-27T06:58:36.819573",
   "version": "2.4.0"
  }
 },
 "nbformat": 4,
 "nbformat_minor": 5
}
